{
 "cells": [
  {
   "cell_type": "markdown",
   "id": "37c7452d",
   "metadata": {},
   "source": [
    "# Overview of this jupyter notebook\n",
    "\n",
    "1. Loading the data\n",
    "2. Optimize 1D-CNN Model for Multi-Label Classification with Kerastuner Hyperband\n",
    "3. Evaluation of the optimized model and saving the results"
   ]
  },
  {
   "cell_type": "code",
   "execution_count": 1,
   "id": "12f23059",
   "metadata": {},
   "outputs": [],
   "source": [
    "import pandas as pd\n",
    "import numpy as np\n",
    "import plotly.graph_objects as go\n",
    "import plotly.express as px\n",
    "import matplotlib.pyplot as plt\n",
    "import seaborn as sns\n",
    "%matplotlib inline\n",
    "from sklearn.preprocessing import MinMaxScaler\n",
    "from sklearn.metrics import confusion_matrix, ConfusionMatrixDisplay, classification_report\n",
    "from sklearn.metrics import accuracy_score, recall_score, precision_score, f1_score\n",
    "from sklearn.model_selection import train_test_split, PredefinedSplit, GridSearchCV, RandomizedSearchCV, KFold\n",
    "from sklearn.model_selection import cross_val_predict, cross_val_score, cross_validate\n",
    "import pickle\n",
    "import json\n",
    "from tqdm.notebook import tqdm_notebook as tq\n",
    "from warnings import filterwarnings\n",
    "filterwarnings('ignore')"
   ]
  },
  {
   "cell_type": "code",
   "execution_count": 2,
   "id": "3fd95cb8",
   "metadata": {},
   "outputs": [],
   "source": [
    "import tensorflow as tf\n",
    "from tensorflow import keras\n",
    "from tensorflow.keras.wrappers.scikit_learn import KerasClassifier\n",
    "from tensorflow.keras.utils import to_categorical, plot_model\n",
    "from tensorflow.keras.models import Sequential, clone_model, load_model\n",
    "from tensorflow.keras.layers import Dense, Conv1D, Flatten, MaxPooling1D, Dropout, Input, BatchNormalization\n",
    "from tensorflow.keras.callbacks import EarlyStopping\n",
    "from tensorflow.keras.optimizers import Adam, SGD, RMSprop, Adamax\n",
    "import keras_tuner as kt\n",
    "from keras_tuner_cv.outer_cv import OuterCV"
   ]
  },
  {
   "cell_type": "code",
   "execution_count": 3,
   "id": "b54e015d",
   "metadata": {},
   "outputs": [
    {
     "name": "stdout",
     "output_type": "stream",
     "text": [
      "<module 'library.etl_data' from 'C:\\\\Users\\\\songs\\\\OneDrive\\\\Desktop\\\\0. MA_FAPS\\\\04_Code\\\\library\\\\etl_data.py'>\n",
      "<module 'library.faps_color' from 'C:\\\\Users\\\\songs\\\\OneDrive\\\\Desktop\\\\0. MA_FAPS\\\\04_Code\\\\library\\\\faps_color.py'>\n",
      "<module 'library.classification_helper' from 'C:\\\\Users\\\\songs\\\\OneDrive\\\\Desktop\\\\0. MA_FAPS\\\\04_Code\\\\library\\\\classification_helper.py'>\n"
     ]
    }
   ],
   "source": [
    "import os\n",
    "import importlib\n",
    "from library import etl_data as etl            # this module contains functions that load, visualize and save the data\n",
    "from library import faps_color as fapsc        # this module contains the color combination of FAPS Institute\n",
    "from library import classification_helper as ch  # this module contains helper functions for the classification task\n",
    "print(importlib.reload(etl))\n",
    "print(importlib.reload(fapsc))\n",
    "print(importlib.reload(ch))"
   ]
  },
  {
   "cell_type": "code",
   "execution_count": 4,
   "id": "e60740d1",
   "metadata": {},
   "outputs": [
    {
     "name": "stdout",
     "output_type": "stream",
     "text": [
      "TensorFlow version:  2.8.0\n",
      "Num GPUs Available:  1\n",
      "Name:  /device:GPU:0\n"
     ]
    }
   ],
   "source": [
    "# GPU check\n",
    "\n",
    "if len(tf.config.list_physical_devices('GPU')) > 0:\n",
    "    print(\"TensorFlow version: \", tf.__version__)\n",
    "    print(\"Num GPUs Available: \", len(tf.config.list_physical_devices('GPU')))\n",
    "    print(\"Name: \", tf.test.gpu_device_name())\n",
    "else:\n",
    "    print(\"TensorFlow version: \", tf.__version__)\n",
    "    print(\"GPU is not available\")"
   ]
  },
  {
   "cell_type": "markdown",
   "id": "3f2bd617",
   "metadata": {},
   "source": [
    "# 1. Loading the data"
   ]
  },
  {
   "cell_type": "code",
   "execution_count": 5,
   "id": "12c6327a",
   "metadata": {},
   "outputs": [],
   "source": [
    "classes = ['0_in_ordnung',\n",
    "           '1_kleine_durchgangsbohrung',\n",
    "           '2_versetzte_fuegepartner',\n",
    "           '3_unebene_fuegeflaeche',\n",
    "           '4_span_im_gewinde',\n",
    "           '5_verschmutzte_schraube',\n",
    "           '6_fremdkoerper_am_gewindeende',\n",
    "           '7_beschaedigte_schraube']"
   ]
  },
  {
   "cell_type": "code",
   "execution_count": 6,
   "id": "f6c0b129",
   "metadata": {},
   "outputs": [
    {
     "data": {
      "text/plain": [
       "(1550, 920)"
      ]
     },
     "execution_count": 6,
     "metadata": {},
     "output_type": "execute_result"
    }
   ],
   "source": [
    "feature_train = np.load(\"feature_label/feature_train_mlc_v2.4.npy\")\n",
    "feature_train.shape"
   ]
  },
  {
   "cell_type": "code",
   "execution_count": 7,
   "id": "2146c85e",
   "metadata": {},
   "outputs": [
    {
     "data": {
      "text/plain": [
       "(750, 920)"
      ]
     },
     "execution_count": 7,
     "metadata": {},
     "output_type": "execute_result"
    }
   ],
   "source": [
    "feature_test = np.load(\"feature_label/feature_test_mlc_v2.4.npy\")\n",
    "feature_test.shape"
   ]
  },
  {
   "cell_type": "code",
   "execution_count": 8,
   "id": "20022753",
   "metadata": {},
   "outputs": [
    {
     "data": {
      "text/plain": [
       "(1550, 8)"
      ]
     },
     "execution_count": 8,
     "metadata": {},
     "output_type": "execute_result"
    }
   ],
   "source": [
    "label_train = np.load(\"feature_label/label_train_mlc_v2.4.npy\")\n",
    "label_train.shape"
   ]
  },
  {
   "cell_type": "code",
   "execution_count": 9,
   "id": "e4c24abe",
   "metadata": {},
   "outputs": [
    {
     "data": {
      "text/plain": [
       "(750, 8)"
      ]
     },
     "execution_count": 9,
     "metadata": {},
     "output_type": "execute_result"
    }
   ],
   "source": [
    "label_test = np.load(\"feature_label/label_test_mlc_v2.4.npy\")\n",
    "label_test.shape"
   ]
  },
  {
   "cell_type": "code",
   "execution_count": 10,
   "id": "e9237675",
   "metadata": {},
   "outputs": [
    {
     "data": {
      "text/plain": [
       "array([[0, 0, 1, ..., 0, 0, 1],\n",
       "       [0, 0, 0, ..., 0, 0, 1],\n",
       "       [0, 0, 0, ..., 0, 0, 0],\n",
       "       ...,\n",
       "       [0, 0, 0, ..., 0, 0, 1],\n",
       "       [0, 0, 0, ..., 0, 1, 0],\n",
       "       [0, 0, 0, ..., 0, 0, 1]])"
      ]
     },
     "execution_count": 10,
     "metadata": {},
     "output_type": "execute_result"
    }
   ],
   "source": [
    "from sklearn.utils import shuffle\n",
    "\n",
    "x_train, y_train = shuffle(feature_train, label_train, random_state=9)\n",
    "x_test, y_test = shuffle(feature_test, label_test, random_state=9)\n",
    "\n",
    "y_train = y_train.astype(np.int32)\n",
    "y_test = y_test.astype(np.int32)\n",
    "y_test"
   ]
  },
  {
   "cell_type": "code",
   "execution_count": 11,
   "id": "d52a57a2",
   "metadata": {},
   "outputs": [
    {
     "data": {
      "text/plain": [
       "((1550, 920, 1), (750, 920, 1))"
      ]
     },
     "execution_count": 11,
     "metadata": {},
     "output_type": "execute_result"
    }
   ],
   "source": [
    "len_curve = 920\n",
    "x_train = x_train.reshape(-1, len_curve, 1)\n",
    "x_test = x_test.reshape(-1, len_curve, 1)\n",
    "\n",
    "x_train.shape, x_test.shape"
   ]
  },
  {
   "cell_type": "markdown",
   "id": "19d45fa8",
   "metadata": {},
   "source": [
    "# 2. Optimize 1D-CNN Model for Multi-Label Classification with Kerastuner Hyperband"
   ]
  },
  {
   "cell_type": "code",
   "execution_count": 12,
   "id": "fc2d22b2",
   "metadata": {
    "scrolled": true
   },
   "outputs": [
    {
     "data": {
      "text/plain": [
       "(1550, 920, 1)"
      ]
     },
     "execution_count": 12,
     "metadata": {},
     "output_type": "execute_result"
    }
   ],
   "source": [
    "x_train.shape"
   ]
  },
  {
   "cell_type": "code",
   "execution_count": 30,
   "id": "71ca5252",
   "metadata": {},
   "outputs": [],
   "source": [
    "class MyHyperModel(kt.HyperModel):\n",
    "    \n",
    "    def build(self, hp):\n",
    "        try:\n",
    "            conv_layer = hp.Int('conv_layer', min_value=4, max_value=4, step=1)\n",
    "            filters = hp.Int('filter', min_value=16, max_value=64, step=16)\n",
    "            kernel_size = hp.Int('kernel', min_value=16, max_value=16, step=4)\n",
    "            maxpool = hp.Int('maxpool', min_value=2, max_value=3, step=1)\n",
    "            bn_conv = hp.Choice('bn_conv', [True, False])\n",
    "            bn_conv_position = hp.Int('bn_conv_position', min_value=1, max_value=conv_layer, step=1)\n",
    "            dropout_conv = hp.Choice('dropout_conv', [True, False])\n",
    "            dropout_rate = hp.Choice('dropout_rate', [0.1, 0.2, 0.3, 0.4])\n",
    "            dense_layer = hp.Int('dense_layer', min_value=2, max_value=4, step=1)\n",
    "            bn_dense = hp.Choice('bn_dense', [True, False])\n",
    "            bn_dense_position = hp.Int('bn_dense_position', min_value=1, max_value=dense_layer, step=1)\n",
    "            dropout_dense = hp.Choice('dropout_dense', [True, False])\n",
    "        \n",
    "        \n",
    "            model = Sequential()\n",
    "\n",
    "            for i in range(1, conv_layer+1):\n",
    "                if i==1:\n",
    "                    model.add(Conv1D(filters, kernel_size, activation=\"relu\", input_shape=(len_curve, 1)))\n",
    "                    model.add(MaxPooling1D(maxpool))\n",
    "                    if (bn_conv==1) & (bn_conv_position==1):\n",
    "                        model.add(BatchNormalization())\n",
    "                        if dropout_conv:\n",
    "                            model.add(Dropout(dropout_rate))\n",
    "                else:\n",
    "                    model.add(Conv1D(filters, kernel_size, activation=\"relu\"))\n",
    "                    model.add(MaxPooling1D(maxpool))\n",
    "                    if (bn_conv==1) & (bn_conv_position==i):\n",
    "                        model.add(BatchNormalization())\n",
    "                        if dropout_conv:\n",
    "                            model.add(Dropout(dropout_rate))\n",
    "\n",
    "            model.add(Flatten())\n",
    "\n",
    "            if dense_layer>=1:\n",
    "                global unit1\n",
    "                unit1 = hp.Int(\"unit1\", min_value=200, max_value=400, step=40)\n",
    "                model.add(Dense(unit1, activation='relu'))\n",
    "                if (bn_dense==1) & (bn_dense_position==1):\n",
    "                    model.add(BatchNormalization())\n",
    "                    if dropout_dense:\n",
    "                        model.add(Dropout(dropout_rate))\n",
    "\n",
    "            if dense_layer>=2:\n",
    "                global unit2\n",
    "                unit2 = hp.Int(\"unit2\", min_value=120, max_value=unit1, step=40)\n",
    "                model.add(Dense(unit2, activation='relu'))\n",
    "                if (bn_dense==1) & (bn_dense_position==2):\n",
    "                    model.add(BatchNormalization())\n",
    "                    if dropout_dense:\n",
    "                        model.add(Dropout(dropout_rate))\n",
    "\n",
    "            if dense_layer>=3:\n",
    "                global unit3\n",
    "                unit3 = hp.Int(\"unit3\", min_value=80, max_value=unit2, step=40)\n",
    "                model.add(Dense(unit3, activation='relu'))\n",
    "                if (bn_dense==1) & (bn_dense_position==3):\n",
    "                    model.add(BatchNormalization())\n",
    "                    if dropout_dense:\n",
    "                        model.add(Dropout(dropout_rate))\n",
    "\n",
    "            if dense_layer>=4:\n",
    "                global unit4\n",
    "                unit4 = hp.Int(\"unit4\", min_value=40, max_value=unit3, step=40)\n",
    "                model.add(Dense(unit4, activation='relu'))\n",
    "                if (bn_dense==1) & (bn_dense_position==4):\n",
    "                    model.add(BatchNormalization())\n",
    "                    if dropout_dense:\n",
    "                        model.add(Dropout(dropout_rate))             \n",
    "\n",
    "            model.add(Dense(8, activation='sigmoid'))\n",
    "\n",
    "            lr = hp.Float(\"learning_rate\", min_value=0.0001, max_value=0.01, sampling=\"log\")\n",
    "            model.compile(loss='binary_crossentropy', optimizer=Adam(learning_rate=lr), metrics=[\"accuracy\"])\n",
    "\n",
    "            print(model.summary())\n",
    "            return model\n",
    "        \n",
    "        except:\n",
    "            print(f\"##### exception occured ###### \\n\")\n",
    "\n",
    "\n",
    "    def fit(self, hp, model, *args, **kwargs):\n",
    "        \n",
    "        return model.fit(\n",
    "            *args,\n",
    "            batch_size=hp.Choice(\"batch_size\", [4, 8, 16, 32, 64, 128]),\n",
    "            **kwargs,\n",
    "        )\n",
    "        "
   ]
  },
  {
   "cell_type": "code",
   "execution_count": 31,
   "id": "fb5a3df0",
   "metadata": {
    "scrolled": false
   },
   "outputs": [
    {
     "name": "stdout",
     "output_type": "stream",
     "text": [
      "Trial 1016 Complete [00h 00m 35s]\n",
      "val_accuracy: 0.8685566782951355\n",
      "\n",
      "Best val_accuracy So Far: 0.907216489315033\n",
      "Total elapsed time: 02h 22m 20s\n",
      "INFO:tensorflow:Oracle triggered exit\n",
      "Model: \"sequential_1\"\n",
      "_________________________________________________________________\n",
      "Layer (type)                 Output Shape              Param #   \n",
      "=================================================================\n",
      "conv1d_4 (Conv1D)            (None, 905, 32)           544       \n",
      "_________________________________________________________________\n",
      "max_pooling1d_4 (MaxPooling1 (None, 452, 32)           0         \n",
      "_________________________________________________________________\n",
      "conv1d_5 (Conv1D)            (None, 437, 32)           16416     \n",
      "_________________________________________________________________\n",
      "max_pooling1d_5 (MaxPooling1 (None, 218, 32)           0         \n",
      "_________________________________________________________________\n",
      "conv1d_6 (Conv1D)            (None, 203, 32)           16416     \n",
      "_________________________________________________________________\n",
      "max_pooling1d_6 (MaxPooling1 (None, 101, 32)           0         \n",
      "_________________________________________________________________\n",
      "conv1d_7 (Conv1D)            (None, 86, 32)            16416     \n",
      "_________________________________________________________________\n",
      "max_pooling1d_7 (MaxPooling1 (None, 43, 32)            0         \n",
      "_________________________________________________________________\n",
      "flatten_1 (Flatten)          (None, 1376)              0         \n",
      "_________________________________________________________________\n",
      "dense_4 (Dense)              (None, 320)               440640    \n",
      "_________________________________________________________________\n",
      "dense_5 (Dense)              (None, 200)               64200     \n",
      "_________________________________________________________________\n",
      "dense_6 (Dense)              (None, 160)               32160     \n",
      "_________________________________________________________________\n",
      "dense_7 (Dense)              (None, 40)                6440      \n",
      "_________________________________________________________________\n",
      "dense_8 (Dense)              (None, 8)                 328       \n",
      "=================================================================\n",
      "Total params: 593,560\n",
      "Trainable params: 593,560\n",
      "Non-trainable params: 0\n",
      "_________________________________________________________________\n",
      "None\n"
     ]
    }
   ],
   "source": [
    "tuner = kt.Hyperband(MyHyperModel(),\n",
    "                     objective=\"val_accuracy\",\n",
    "                     max_epochs=100,\n",
    "                     hyperband_iterations=4,\n",
    "                     seed=9,\n",
    "                     overwrite=True,\n",
    "                     directory='kerastuner', \n",
    "                     project_name=\"mlc_cnn_kerastuner_hyperband_v2.4\")\n",
    "\n",
    "tuner.search(x_train, y_train, epochs=100, validation_split=0.25,\n",
    "             callbacks=[EarlyStopping(monitor='val_loss', patience=10, verbose=1)])\n",
    "\n",
    "best_hps=tuner.get_best_hyperparameters(num_trials=1)[0]\n",
    "best_model = tuner.hypermodel.build(best_hps)"
   ]
  },
  {
   "cell_type": "code",
   "execution_count": 32,
   "id": "9ff7296b",
   "metadata": {},
   "outputs": [
    {
     "data": {
      "text/plain": [
       "{'conv_layer': 4,\n",
       " 'filter': 32,\n",
       " 'kernel': 16,\n",
       " 'maxpool': 2,\n",
       " 'bn_conv': 0,\n",
       " 'bn_conv_position': 2,\n",
       " 'dropout_conv': 1,\n",
       " 'dropout_rate': 0.1,\n",
       " 'dense_layer': 4,\n",
       " 'bn_dense': 0,\n",
       " 'bn_dense_position': 2,\n",
       " 'dropout_dense': 1,\n",
       " 'unit1': 320,\n",
       " 'unit2': 200,\n",
       " 'learning_rate': 0.0018719140580268547,\n",
       " 'unit3': 160,\n",
       " 'batch_size': 4,\n",
       " 'unit4': 40,\n",
       " 'tuner/epochs': 100,\n",
       " 'tuner/initial_epoch': 0,\n",
       " 'tuner/bracket': 0,\n",
       " 'tuner/round': 0}"
      ]
     },
     "execution_count": 32,
     "metadata": {},
     "output_type": "execute_result"
    }
   ],
   "source": [
    "best_hps.values"
   ]
  },
  {
   "cell_type": "code",
   "execution_count": 33,
   "id": "9d2d9d0b",
   "metadata": {},
   "outputs": [
    {
     "data": {
      "text/plain": [
       "{'conv_layer': 4,\n",
       " 'filter': 32,\n",
       " 'kernel': 16,\n",
       " 'maxpool': 2,\n",
       " 'bn_conv': 0,\n",
       " 'bn_conv_position': 2,\n",
       " 'dropout_conv': 1,\n",
       " 'dropout_rate': 0.1,\n",
       " 'dense_layer': 4,\n",
       " 'bn_dense': 0,\n",
       " 'bn_dense_position': 2,\n",
       " 'dropout_dense': 1,\n",
       " 'unit1': 320,\n",
       " 'unit2': 200,\n",
       " 'learning_rate': 0.0018719140580268547,\n",
       " 'unit3': 160,\n",
       " 'batch_size': 4,\n",
       " 'unit4': 40,\n",
       " 'tuner/epochs': 100,\n",
       " 'tuner/initial_epoch': 0,\n",
       " 'tuner/bracket': 0,\n",
       " 'tuner/round': 0}"
      ]
     },
     "execution_count": 33,
     "metadata": {},
     "output_type": "execute_result"
    }
   ],
   "source": [
    "#with open(\"results/mlc_cnn_kerastuner_hyperband_v2.4.json\", \"w\") as f:\n",
    "    json.dump(best_hps.values, f)\n",
    "    f.close()\n",
    "\n",
    "best_hps.values"
   ]
  },
  {
   "cell_type": "code",
   "execution_count": 50,
   "id": "8c6a8e2d",
   "metadata": {},
   "outputs": [
    {
     "name": "stdout",
     "output_type": "stream",
     "text": [
      "Model: \"sequential_6\"\n",
      "_________________________________________________________________\n",
      "Layer (type)                 Output Shape              Param #   \n",
      "=================================================================\n",
      "conv1d_24 (Conv1D)           (None, 905, 32)           544       \n",
      "_________________________________________________________________\n",
      "max_pooling1d_24 (MaxPooling (None, 452, 32)           0         \n",
      "_________________________________________________________________\n",
      "conv1d_25 (Conv1D)           (None, 437, 32)           16416     \n",
      "_________________________________________________________________\n",
      "max_pooling1d_25 (MaxPooling (None, 218, 32)           0         \n",
      "_________________________________________________________________\n",
      "conv1d_26 (Conv1D)           (None, 203, 32)           16416     \n",
      "_________________________________________________________________\n",
      "max_pooling1d_26 (MaxPooling (None, 101, 32)           0         \n",
      "_________________________________________________________________\n",
      "conv1d_27 (Conv1D)           (None, 86, 32)            16416     \n",
      "_________________________________________________________________\n",
      "max_pooling1d_27 (MaxPooling (None, 43, 32)            0         \n",
      "_________________________________________________________________\n",
      "flatten_6 (Flatten)          (None, 1376)              0         \n",
      "_________________________________________________________________\n",
      "dense_29 (Dense)             (None, 320)               440640    \n",
      "_________________________________________________________________\n",
      "dense_30 (Dense)             (None, 200)               64200     \n",
      "_________________________________________________________________\n",
      "dense_31 (Dense)             (None, 160)               32160     \n",
      "_________________________________________________________________\n",
      "dense_32 (Dense)             (None, 40)                6440      \n",
      "_________________________________________________________________\n",
      "dense_33 (Dense)             (None, 8)                 328       \n",
      "=================================================================\n",
      "Total params: 593,560\n",
      "Trainable params: 593,560\n",
      "Non-trainable params: 0\n",
      "_________________________________________________________________\n",
      "None\n"
     ]
    }
   ],
   "source": [
    "best_model = tuner.hypermodel.build(best_hps)"
   ]
  },
  {
   "cell_type": "code",
   "execution_count": 51,
   "id": "83f88b50",
   "metadata": {},
   "outputs": [],
   "source": [
    "def add_augmented_data(val_feat, val_label, augmentation_number, std=0.001):\n",
    "    \n",
    "    val_feat_aug = val_feat\n",
    "    val_label_aug = val_label\n",
    "    \n",
    "    for i in range(augmentation_number):\n",
    "        np.random.seed(i)\n",
    "        noise = np.random.normal(0, std, val_feat.shape)\n",
    "        augmented_data = val_feat + noise\n",
    "        augmented_data[augmented_data<0] = 0\n",
    "        val_feat_aug = np.concatenate((val_feat_aug, augmented_data), axis=0)\n",
    "        val_label_aug = np.concatenate((val_label_aug, val_label), axis=0)\n",
    "\n",
    "    print(val_feat_aug.shape, val_label_aug.shape)\n",
    "    return val_feat_aug, val_label_aug"
   ]
  },
  {
   "cell_type": "code",
   "execution_count": 52,
   "id": "63b250f8",
   "metadata": {},
   "outputs": [
    {
     "name": "stdout",
     "output_type": "stream",
     "text": [
      "(6200, 920, 1) (6200, 8)\n"
     ]
    }
   ],
   "source": [
    "x_train_aug, y_train_aug = add_augmented_data(x_train, y_train, augmentation_number=3)\n",
    "x_train_aug, y_train_aug = shuffle(x_train_aug, y_train_aug, random_state=9)\n",
    "x_train_aug = x_train_aug.reshape(-1, len_curve, 1)"
   ]
  },
  {
   "cell_type": "code",
   "execution_count": 53,
   "id": "df623cdf",
   "metadata": {
    "scrolled": true
   },
   "outputs": [
    {
     "name": "stdout",
     "output_type": "stream",
     "text": [
      "Epoch 1/100\n",
      "1240/1240 [==============================] - 5s 4ms/step - loss: 0.1947 - accuracy: 0.6990 - val_loss: 0.1327 - val_accuracy: 0.7984\n",
      "Epoch 2/100\n",
      "1240/1240 [==============================] - 4s 3ms/step - loss: 0.1155 - accuracy: 0.7966 - val_loss: 0.0992 - val_accuracy: 0.7847\n",
      "Epoch 3/100\n",
      "1240/1240 [==============================] - 4s 3ms/step - loss: 0.0846 - accuracy: 0.8192 - val_loss: 0.0715 - val_accuracy: 0.8242\n",
      "Epoch 4/100\n",
      "1240/1240 [==============================] - 4s 3ms/step - loss: 0.0616 - accuracy: 0.8540 - val_loss: 0.0911 - val_accuracy: 0.8250\n",
      "Epoch 5/100\n",
      "1240/1240 [==============================] - 4s 3ms/step - loss: 0.0590 - accuracy: 0.8548 - val_loss: 0.0403 - val_accuracy: 0.8629\n",
      "Epoch 6/100\n",
      "1240/1240 [==============================] - 4s 3ms/step - loss: 0.0327 - accuracy: 0.8627 - val_loss: 0.0563 - val_accuracy: 0.8935\n",
      "Epoch 7/100\n",
      "1240/1240 [==============================] - 4s 3ms/step - loss: 0.0430 - accuracy: 0.8758 - val_loss: 0.0202 - val_accuracy: 0.8742\n",
      "Epoch 8/100\n",
      "1240/1240 [==============================] - 4s 3ms/step - loss: 0.0247 - accuracy: 0.8764 - val_loss: 0.0336 - val_accuracy: 0.8960\n",
      "Epoch 9/100\n",
      "1240/1240 [==============================] - 4s 3ms/step - loss: 0.0272 - accuracy: 0.8919 - val_loss: 0.0222 - val_accuracy: 0.8823\n",
      "Epoch 10/100\n",
      "1240/1240 [==============================] - 4s 3ms/step - loss: 0.0210 - accuracy: 0.8659 - val_loss: 0.0452 - val_accuracy: 0.8153\n",
      "Epoch 11/100\n",
      "1240/1240 [==============================] - 4s 3ms/step - loss: 0.0220 - accuracy: 0.8635 - val_loss: 0.0097 - val_accuracy: 0.8879\n",
      "Epoch 12/100\n",
      "1240/1240 [==============================] - 4s 3ms/step - loss: 0.0248 - accuracy: 0.8748 - val_loss: 0.1007 - val_accuracy: 0.8290\n",
      "Epoch 13/100\n",
      "1240/1240 [==============================] - 4s 3ms/step - loss: 0.0087 - accuracy: 0.8526 - val_loss: 0.0055 - val_accuracy: 0.8855\n",
      "Epoch 14/100\n",
      "1240/1240 [==============================] - 4s 3ms/step - loss: 0.0094 - accuracy: 0.9030 - val_loss: 0.0031 - val_accuracy: 0.9363\n",
      "Epoch 15/100\n",
      "1240/1240 [==============================] - 4s 3ms/step - loss: 0.0338 - accuracy: 0.8994 - val_loss: 0.0364 - val_accuracy: 0.8984\n",
      "Epoch 16/100\n",
      "1240/1240 [==============================] - 4s 3ms/step - loss: 0.0045 - accuracy: 0.8935 - val_loss: 0.0025 - val_accuracy: 0.9331\n",
      "Epoch 17/100\n",
      "1240/1240 [==============================] - 4s 3ms/step - loss: 0.0196 - accuracy: 0.9044 - val_loss: 0.0507 - val_accuracy: 0.9210\n",
      "Epoch 18/100\n",
      "1240/1240 [==============================] - 4s 3ms/step - loss: 0.0160 - accuracy: 0.9284 - val_loss: 0.0120 - val_accuracy: 0.9516\n",
      "Epoch 19/100\n",
      "1240/1240 [==============================] - 4s 3ms/step - loss: 0.0210 - accuracy: 0.9236 - val_loss: 0.0049 - val_accuracy: 0.8976\n",
      "Epoch 20/100\n",
      "1240/1240 [==============================] - 4s 3ms/step - loss: 2.0510e-04 - accuracy: 0.9006 - val_loss: 0.0044 - val_accuracy: 0.8944\n",
      "Epoch 21/100\n",
      "1240/1240 [==============================] - 4s 3ms/step - loss: 6.9646e-06 - accuracy: 0.8980 - val_loss: 0.0048 - val_accuracy: 0.8944\n",
      "Epoch 22/100\n",
      "1240/1240 [==============================] - 4s 3ms/step - loss: 2.5946e-06 - accuracy: 0.8942 - val_loss: 0.0058 - val_accuracy: 0.8944\n",
      "Epoch 23/100\n",
      "1240/1240 [==============================] - 4s 3ms/step - loss: 1.1193e-06 - accuracy: 0.8942 - val_loss: 0.0070 - val_accuracy: 0.8944\n",
      "Epoch 24/100\n",
      "1240/1240 [==============================] - 4s 3ms/step - loss: 4.8492e-07 - accuracy: 0.8931 - val_loss: 0.0085 - val_accuracy: 0.8935\n",
      "Epoch 25/100\n",
      "1240/1240 [==============================] - 4s 3ms/step - loss: 2.1949e-07 - accuracy: 0.8925 - val_loss: 0.0102 - val_accuracy: 0.8935\n",
      "Epoch 26/100\n",
      "1240/1240 [==============================] - 4s 3ms/step - loss: 1.0400e-07 - accuracy: 0.8913 - val_loss: 0.0115 - val_accuracy: 0.8935\n",
      "Epoch 00026: early stopping\n"
     ]
    }
   ],
   "source": [
    "history = best_model.fit(x_train_aug, y_train_aug, epochs=100, batch_size=4, validation_split=0.2,\n",
    "                         callbacks=[EarlyStopping(monitor='val_loss', patience=10, verbose=1)])"
   ]
  },
  {
   "cell_type": "code",
   "execution_count": 54,
   "id": "e1f97094",
   "metadata": {},
   "outputs": [
    {
     "data": {
      "image/png": "[encoded data removed]",
      "text/plain": [
       "<Figure size 504x360 with 1 Axes>"
      ]
     },
     "metadata": {
      "needs_background": "light"
     },
     "output_type": "display_data"
    },
    {
     "data": {
      "image/png": "[encoded data removed]",
      "text/plain": [
       "<Figure size 504x360 with 1 Axes>"
      ]
     },
     "metadata": {
      "needs_background": "light"
     },
     "output_type": "display_data"
    }
   ],
   "source": [
    "ch.plot_history(history, figsize=(7,5))"
   ]
  },
  {
   "cell_type": "code",
   "execution_count": 57,
   "id": "d281d17f",
   "metadata": {},
   "outputs": [],
   "source": [
    "#best_model.save('model/mlc_cnn_kerastuner_hyperband_v2.4.h5')"
   ]
  },
  {
   "cell_type": "markdown",
   "id": "6e1379aa",
   "metadata": {},
   "source": [
    "# 3. Evaluation of the optimized model and saving the results"
   ]
  },
  {
   "cell_type": "code",
   "execution_count": 14,
   "id": "e20553d9",
   "metadata": {},
   "outputs": [],
   "source": [
    "best_model = load_model('model/mlc_cnn_kerastuner_hyperband_v2.4.h5')"
   ]
  },
  {
   "cell_type": "code",
   "execution_count": 15,
   "id": "4fb9dbc9",
   "metadata": {},
   "outputs": [
    {
     "name": "stdout",
     "output_type": "stream",
     "text": [
      "\n",
      "\n",
      "acc: 0.8866666666666667\n",
      "hamming loss: 0.0235\n",
      "\n",
      "              precision    recall  f1-score   support\n",
      "\n",
      "           0      1.000     1.000     1.000        50\n",
      "           1      0.968     0.910     0.938       100\n",
      "           2      0.937     0.885     0.910       200\n",
      "           3      0.990     0.970     0.980       200\n",
      "           4      0.846     0.880     0.863       100\n",
      "           5      0.958     0.913     0.935       150\n",
      "           6      0.993     0.887     0.937       150\n",
      "           7      0.971     0.944     0.957       250\n",
      "\n",
      "   micro avg      0.959     0.922     0.940      1200\n",
      "   macro avg      0.958     0.924     0.940      1200\n",
      "weighted avg      0.960     0.922     0.940      1200\n",
      " samples avg      0.951     0.932     0.936      1200\n",
      "\n"
     ]
    }
   ],
   "source": [
    "prediction = best_model.predict(x_test)\n",
    "y_pred = ch.make_pred_mlc(prediction, threshold=0.5)\n",
    "acc, ham = ch.mlc_result(y_test, y_pred)"
   ]
  },
  {
   "cell_type": "code",
   "execution_count": 16,
   "id": "fbe80cab",
   "metadata": {},
   "outputs": [
    {
     "data": {
      "text/html": [
       "<style type=\"text/css\">\n",
       "#T_182b1 th {\n",
       "  font-size: 16px;\n",
       "}\n",
       "#T_182b1 td {\n",
       "  font-size: 16px;\n",
       "}\n",
       "#T_182b1_row0_col0, #T_182b1_row1_col1, #T_182b1_row1_col17, #T_182b1_row2_col2, #T_182b1_row2_col10, #T_182b1_row2_col11, #T_182b1_row3_col3, #T_182b1_row4_col4, #T_182b1_row5_col5, #T_182b1_row6_col6, #T_182b1_row7_col7, #T_182b1_row8_col8, #T_182b1_row9_col9, #T_182b1_row10_col12, #T_182b1_row11_col13, #T_182b1_row12_col14, #T_182b1_row13_col11, #T_182b1_row13_col15, #T_182b1_row14_col16 {\n",
       "  background-color: #008000;\n",
       "  color: #f1f1f1;\n",
       "}\n",
       "#T_182b1_row0_col1, #T_182b1_row0_col2, #T_182b1_row0_col3, #T_182b1_row0_col4, #T_182b1_row0_col5, #T_182b1_row0_col6, #T_182b1_row0_col7, #T_182b1_row0_col8, #T_182b1_row0_col9, #T_182b1_row0_col10, #T_182b1_row0_col11, #T_182b1_row0_col12, #T_182b1_row0_col13, #T_182b1_row0_col14, #T_182b1_row0_col15, #T_182b1_row0_col16, #T_182b1_row0_col17, #T_182b1_row0_col18, #T_182b1_row1_col0, #T_182b1_row1_col3, #T_182b1_row1_col4, #T_182b1_row1_col6, #T_182b1_row1_col7, #T_182b1_row1_col8, #T_182b1_row1_col9, #T_182b1_row1_col10, #T_182b1_row1_col11, #T_182b1_row1_col12, #T_182b1_row1_col13, #T_182b1_row1_col14, #T_182b1_row1_col15, #T_182b1_row1_col16, #T_182b1_row1_col18, #T_182b1_row2_col0, #T_182b1_row2_col3, #T_182b1_row2_col4, #T_182b1_row2_col6, #T_182b1_row2_col7, #T_182b1_row2_col8, #T_182b1_row2_col12, #T_182b1_row2_col13, #T_182b1_row2_col14, #T_182b1_row2_col15, #T_182b1_row2_col16, #T_182b1_row2_col17, #T_182b1_row2_col18, #T_182b1_row3_col0, #T_182b1_row3_col1, #T_182b1_row3_col2, #T_182b1_row3_col5, #T_182b1_row3_col6, #T_182b1_row3_col7, #T_182b1_row3_col8, #T_182b1_row3_col9, #T_182b1_row3_col10, #T_182b1_row3_col11, #T_182b1_row3_col12, #T_182b1_row3_col13, #T_182b1_row3_col14, #T_182b1_row3_col15, #T_182b1_row3_col16, #T_182b1_row3_col17, #T_182b1_row3_col18, #T_182b1_row4_col0, #T_182b1_row4_col1, #T_182b1_row4_col2, #T_182b1_row4_col3, #T_182b1_row4_col5, #T_182b1_row4_col6, #T_182b1_row4_col7, #T_182b1_row4_col8, #T_182b1_row4_col10, #T_182b1_row4_col11, #T_182b1_row4_col13, #T_182b1_row4_col14, #T_182b1_row4_col15, #T_182b1_row4_col17, #T_182b1_row4_col18, #T_182b1_row5_col0, #T_182b1_row5_col1, #T_182b1_row5_col3, #T_182b1_row5_col4, #T_182b1_row5_col6, #T_182b1_row5_col8, #T_182b1_row5_col9, #T_182b1_row5_col10, #T_182b1_row5_col11, #T_182b1_row5_col12, #T_182b1_row5_col14, #T_182b1_row5_col15, #T_182b1_row5_col16, #T_182b1_row5_col17, #T_182b1_row5_col18, #T_182b1_row6_col0, #T_182b1_row6_col1, #T_182b1_row6_col2, #T_182b1_row6_col3, #T_182b1_row6_col4, #T_182b1_row6_col5, #T_182b1_row6_col7, #T_182b1_row6_col8, #T_182b1_row6_col9, #T_182b1_row6_col10, #T_182b1_row6_col11, #T_182b1_row6_col12, #T_182b1_row6_col13, #T_182b1_row6_col14, #T_182b1_row6_col15, #T_182b1_row6_col16, #T_182b1_row6_col17, #T_182b1_row6_col18, #T_182b1_row7_col0, #T_182b1_row7_col1, #T_182b1_row7_col2, #T_182b1_row7_col3, #T_182b1_row7_col5, #T_182b1_row7_col6, #T_182b1_row7_col8, #T_182b1_row7_col9, #T_182b1_row7_col10, #T_182b1_row7_col11, #T_182b1_row7_col12, #T_182b1_row7_col13, #T_182b1_row7_col14, #T_182b1_row7_col15, #T_182b1_row7_col16, #T_182b1_row7_col17, #T_182b1_row7_col18, #T_182b1_row8_col0, #T_182b1_row8_col3, #T_182b1_row8_col5, #T_182b1_row8_col7, #T_182b1_row8_col9, #T_182b1_row8_col10, #T_182b1_row8_col11, #T_182b1_row8_col12, #T_182b1_row8_col13, #T_182b1_row8_col14, #T_182b1_row8_col15, #T_182b1_row8_col16, #T_182b1_row8_col17, #T_182b1_row8_col18, #T_182b1_row9_col0, #T_182b1_row9_col1, #T_182b1_row9_col3, #T_182b1_row9_col5, #T_182b1_row9_col6, #T_182b1_row9_col8, #T_182b1_row9_col10, #T_182b1_row9_col11, #T_182b1_row9_col13, #T_182b1_row9_col14, #T_182b1_row9_col15, #T_182b1_row9_col16, #T_182b1_row9_col18, #T_182b1_row10_col0, #T_182b1_row10_col1, #T_182b1_row10_col3, #T_182b1_row10_col5, #T_182b1_row10_col6, #T_182b1_row10_col7, #T_182b1_row10_col8, #T_182b1_row10_col10, #T_182b1_row10_col11, #T_182b1_row10_col13, #T_182b1_row10_col14, #T_182b1_row10_col15, #T_182b1_row10_col16, #T_182b1_row10_col17, #T_182b1_row10_col18, #T_182b1_row11_col0, #T_182b1_row11_col1, #T_182b1_row11_col2, #T_182b1_row11_col4, #T_182b1_row11_col6, #T_182b1_row11_col7, #T_182b1_row11_col8, #T_182b1_row11_col9, #T_182b1_row11_col10, #T_182b1_row11_col11, #T_182b1_row11_col12, #T_182b1_row11_col14, #T_182b1_row11_col15, #T_182b1_row11_col16, #T_182b1_row11_col17, #T_182b1_row11_col18, #T_182b1_row12_col0, #T_182b1_row12_col1, #T_182b1_row12_col2, #T_182b1_row12_col3, #T_182b1_row12_col4, #T_182b1_row12_col5, #T_182b1_row12_col6, #T_182b1_row12_col7, #T_182b1_row12_col8, #T_182b1_row12_col9, #T_182b1_row12_col10, #T_182b1_row12_col11, #T_182b1_row12_col12, #T_182b1_row12_col13, #T_182b1_row12_col15, #T_182b1_row12_col17, #T_182b1_row12_col18, #T_182b1_row13_col0, #T_182b1_row13_col1, #T_182b1_row13_col3, #T_182b1_row13_col5, #T_182b1_row13_col6, #T_182b1_row13_col7, #T_182b1_row13_col8, #T_182b1_row13_col10, #T_182b1_row13_col12, #T_182b1_row13_col13, #T_182b1_row13_col14, #T_182b1_row13_col16, #T_182b1_row13_col17, #T_182b1_row13_col18, #T_182b1_row14_col0, #T_182b1_row14_col1, #T_182b1_row14_col2, #T_182b1_row14_col3, #T_182b1_row14_col4, #T_182b1_row14_col5, #T_182b1_row14_col6, #T_182b1_row14_col8, #T_182b1_row14_col9, #T_182b1_row14_col10, #T_182b1_row14_col11, #T_182b1_row14_col13, #T_182b1_row14_col15, #T_182b1_row14_col17, #T_182b1_row14_col18 {\n",
       "  background-color: #ebf3eb;\n",
       "  color: #000000;\n",
       "}\n",
       "#T_182b1_row1_col2, #T_182b1_row5_col2, #T_182b1_row10_col2, #T_182b1_row13_col2 {\n",
       "  background-color: #e5f0e5;\n",
       "  color: #000000;\n",
       "}\n",
       "#T_182b1_row1_col5, #T_182b1_row2_col5, #T_182b1_row3_col4, #T_182b1_row4_col16, #T_182b1_row5_col13, #T_182b1_row8_col4, #T_182b1_row8_col6, #T_182b1_row9_col7, #T_182b1_row9_col12, #T_182b1_row10_col4, #T_182b1_row14_col12 {\n",
       "  background-color: #e6f1e6;\n",
       "  color: #000000;\n",
       "}\n",
       "#T_182b1_row2_col1, #T_182b1_row14_col14 {\n",
       "  background-color: #dcecdc;\n",
       "  color: #000000;\n",
       "}\n",
       "#T_182b1_row2_col9 {\n",
       "  background-color: #d3e7d3;\n",
       "  color: #000000;\n",
       "}\n",
       "#T_182b1_row4_col9 {\n",
       "  background-color: #cae3ca;\n",
       "  color: #000000;\n",
       "}\n",
       "#T_182b1_row4_col12, #T_182b1_row7_col4, #T_182b1_row11_col5, #T_182b1_row12_col16 {\n",
       "  background-color: #e0eee0;\n",
       "  color: #000000;\n",
       "}\n",
       "#T_182b1_row5_col7, #T_182b1_row14_col7 {\n",
       "  background-color: #e1eee1;\n",
       "  color: #000000;\n",
       "}\n",
       "#T_182b1_row8_col1 {\n",
       "  background-color: #cce4cc;\n",
       "  color: #000000;\n",
       "}\n",
       "#T_182b1_row8_col2 {\n",
       "  background-color: #daebda;\n",
       "  color: #000000;\n",
       "}\n",
       "#T_182b1_row9_col2 {\n",
       "  background-color: #c9e2c8;\n",
       "  color: #000000;\n",
       "}\n",
       "#T_182b1_row9_col4 {\n",
       "  background-color: #a9d3a9;\n",
       "  color: #000000;\n",
       "}\n",
       "#T_182b1_row9_col17 {\n",
       "  background-color: #75b975;\n",
       "  color: #f1f1f1;\n",
       "}\n",
       "#T_182b1_row10_col9, #T_182b1_row13_col9 {\n",
       "  background-color: #dbebdb;\n",
       "  color: #000000;\n",
       "}\n",
       "#T_182b1_row11_col3 {\n",
       "  background-color: #d8ead8;\n",
       "  color: #000000;\n",
       "}\n",
       "#T_182b1_row13_col4 {\n",
       "  background-color: #d5e9d5;\n",
       "  color: #000000;\n",
       "}\n",
       "</style>\n",
       "<table id=\"T_182b1\">\n",
       "  <thead>\n",
       "    <tr>\n",
       "      <th class=\"index_name level0\" >Predicted</th>\n",
       "      <th id=\"T_182b1_level0_col0\" class=\"col_heading level0 col0\" >0</th>\n",
       "      <th id=\"T_182b1_level0_col1\" class=\"col_heading level0 col1\" >1</th>\n",
       "      <th id=\"T_182b1_level0_col2\" class=\"col_heading level0 col2\" >2</th>\n",
       "      <th id=\"T_182b1_level0_col3\" class=\"col_heading level0 col3\" >3</th>\n",
       "      <th id=\"T_182b1_level0_col4\" class=\"col_heading level0 col4\" >4</th>\n",
       "      <th id=\"T_182b1_level0_col5\" class=\"col_heading level0 col5\" >5</th>\n",
       "      <th id=\"T_182b1_level0_col6\" class=\"col_heading level0 col6\" >6</th>\n",
       "      <th id=\"T_182b1_level0_col7\" class=\"col_heading level0 col7\" >7</th>\n",
       "      <th id=\"T_182b1_level0_col8\" class=\"col_heading level0 col8\" >16</th>\n",
       "      <th id=\"T_182b1_level0_col9\" class=\"col_heading level0 col9\" >24</th>\n",
       "      <th id=\"T_182b1_level0_col10\" class=\"col_heading level0 col10\" >25</th>\n",
       "      <th id=\"T_182b1_level0_col11\" class=\"col_heading level0 col11\" >26</th>\n",
       "      <th id=\"T_182b1_level0_col12\" class=\"col_heading level0 col12\" >27</th>\n",
       "      <th id=\"T_182b1_level0_col13\" class=\"col_heading level0 col13\" >35</th>\n",
       "      <th id=\"T_182b1_level0_col14\" class=\"col_heading level0 col14\" >37</th>\n",
       "      <th id=\"T_182b1_level0_col15\" class=\"col_heading level0 col15\" >267</th>\n",
       "      <th id=\"T_182b1_level0_col16\" class=\"col_heading level0 col16\" >357</th>\n",
       "      <th id=\"T_182b1_level0_col17\" class=\"col_heading level0 col17\" >noclass</th>\n",
       "      <th id=\"T_182b1_level0_col18\" class=\"col_heading level0 col18\" >Total</th>\n",
       "    </tr>\n",
       "    <tr>\n",
       "      <th class=\"index_name level0\" >True</th>\n",
       "      <th class=\"blank col0\" >&nbsp;</th>\n",
       "      <th class=\"blank col1\" >&nbsp;</th>\n",
       "      <th class=\"blank col2\" >&nbsp;</th>\n",
       "      <th class=\"blank col3\" >&nbsp;</th>\n",
       "      <th class=\"blank col4\" >&nbsp;</th>\n",
       "      <th class=\"blank col5\" >&nbsp;</th>\n",
       "      <th class=\"blank col6\" >&nbsp;</th>\n",
       "      <th class=\"blank col7\" >&nbsp;</th>\n",
       "      <th class=\"blank col8\" >&nbsp;</th>\n",
       "      <th class=\"blank col9\" >&nbsp;</th>\n",
       "      <th class=\"blank col10\" >&nbsp;</th>\n",
       "      <th class=\"blank col11\" >&nbsp;</th>\n",
       "      <th class=\"blank col12\" >&nbsp;</th>\n",
       "      <th class=\"blank col13\" >&nbsp;</th>\n",
       "      <th class=\"blank col14\" >&nbsp;</th>\n",
       "      <th class=\"blank col15\" >&nbsp;</th>\n",
       "      <th class=\"blank col16\" >&nbsp;</th>\n",
       "      <th class=\"blank col17\" >&nbsp;</th>\n",
       "      <th class=\"blank col18\" >&nbsp;</th>\n",
       "    </tr>\n",
       "  </thead>\n",
       "  <tbody>\n",
       "    <tr>\n",
       "      <th id=\"T_182b1_level0_row0\" class=\"row_heading level0 row0\" >0</th>\n",
       "      <td id=\"T_182b1_row0_col0\" class=\"data row0 col0\" >50</td>\n",
       "      <td id=\"T_182b1_row0_col1\" class=\"data row0 col1\" >0</td>\n",
       "      <td id=\"T_182b1_row0_col2\" class=\"data row0 col2\" >0</td>\n",
       "      <td id=\"T_182b1_row0_col3\" class=\"data row0 col3\" >0</td>\n",
       "      <td id=\"T_182b1_row0_col4\" class=\"data row0 col4\" >0</td>\n",
       "      <td id=\"T_182b1_row0_col5\" class=\"data row0 col5\" >0</td>\n",
       "      <td id=\"T_182b1_row0_col6\" class=\"data row0 col6\" >0</td>\n",
       "      <td id=\"T_182b1_row0_col7\" class=\"data row0 col7\" >0</td>\n",
       "      <td id=\"T_182b1_row0_col8\" class=\"data row0 col8\" >0</td>\n",
       "      <td id=\"T_182b1_row0_col9\" class=\"data row0 col9\" >0</td>\n",
       "      <td id=\"T_182b1_row0_col10\" class=\"data row0 col10\" >0</td>\n",
       "      <td id=\"T_182b1_row0_col11\" class=\"data row0 col11\" >0</td>\n",
       "      <td id=\"T_182b1_row0_col12\" class=\"data row0 col12\" >0</td>\n",
       "      <td id=\"T_182b1_row0_col13\" class=\"data row0 col13\" >0</td>\n",
       "      <td id=\"T_182b1_row0_col14\" class=\"data row0 col14\" >0</td>\n",
       "      <td id=\"T_182b1_row0_col15\" class=\"data row0 col15\" >0</td>\n",
       "      <td id=\"T_182b1_row0_col16\" class=\"data row0 col16\" >0</td>\n",
       "      <td id=\"T_182b1_row0_col17\" class=\"data row0 col17\" >0</td>\n",
       "      <td id=\"T_182b1_row0_col18\" class=\"data row0 col18\" >50</td>\n",
       "    </tr>\n",
       "    <tr>\n",
       "      <th id=\"T_182b1_level0_row1\" class=\"row_heading level0 row1\" >1</th>\n",
       "      <td id=\"T_182b1_row1_col0\" class=\"data row1 col0\" >0</td>\n",
       "      <td id=\"T_182b1_row1_col1\" class=\"data row1 col1\" >46</td>\n",
       "      <td id=\"T_182b1_row1_col2\" class=\"data row1 col2\" >1</td>\n",
       "      <td id=\"T_182b1_row1_col3\" class=\"data row1 col3\" >0</td>\n",
       "      <td id=\"T_182b1_row1_col4\" class=\"data row1 col4\" >0</td>\n",
       "      <td id=\"T_182b1_row1_col5\" class=\"data row1 col5\" >1</td>\n",
       "      <td id=\"T_182b1_row1_col6\" class=\"data row1 col6\" >0</td>\n",
       "      <td id=\"T_182b1_row1_col7\" class=\"data row1 col7\" >0</td>\n",
       "      <td id=\"T_182b1_row1_col8\" class=\"data row1 col8\" >0</td>\n",
       "      <td id=\"T_182b1_row1_col9\" class=\"data row1 col9\" >0</td>\n",
       "      <td id=\"T_182b1_row1_col10\" class=\"data row1 col10\" >0</td>\n",
       "      <td id=\"T_182b1_row1_col11\" class=\"data row1 col11\" >0</td>\n",
       "      <td id=\"T_182b1_row1_col12\" class=\"data row1 col12\" >0</td>\n",
       "      <td id=\"T_182b1_row1_col13\" class=\"data row1 col13\" >0</td>\n",
       "      <td id=\"T_182b1_row1_col14\" class=\"data row1 col14\" >0</td>\n",
       "      <td id=\"T_182b1_row1_col15\" class=\"data row1 col15\" >0</td>\n",
       "      <td id=\"T_182b1_row1_col16\" class=\"data row1 col16\" >0</td>\n",
       "      <td id=\"T_182b1_row1_col17\" class=\"data row1 col17\" >2</td>\n",
       "      <td id=\"T_182b1_row1_col18\" class=\"data row1 col18\" >50</td>\n",
       "    </tr>\n",
       "    <tr>\n",
       "      <th id=\"T_182b1_level0_row2\" class=\"row_heading level0 row2\" >2</th>\n",
       "      <td id=\"T_182b1_row2_col0\" class=\"data row2 col0\" >0</td>\n",
       "      <td id=\"T_182b1_row2_col1\" class=\"data row2 col1\" >3</td>\n",
       "      <td id=\"T_182b1_row2_col2\" class=\"data row2 col2\" >41</td>\n",
       "      <td id=\"T_182b1_row2_col3\" class=\"data row2 col3\" >0</td>\n",
       "      <td id=\"T_182b1_row2_col4\" class=\"data row2 col4\" >0</td>\n",
       "      <td id=\"T_182b1_row2_col5\" class=\"data row2 col5\" >1</td>\n",
       "      <td id=\"T_182b1_row2_col6\" class=\"data row2 col6\" >0</td>\n",
       "      <td id=\"T_182b1_row2_col7\" class=\"data row2 col7\" >0</td>\n",
       "      <td id=\"T_182b1_row2_col8\" class=\"data row2 col8\" >0</td>\n",
       "      <td id=\"T_182b1_row2_col9\" class=\"data row2 col9\" >3</td>\n",
       "      <td id=\"T_182b1_row2_col10\" class=\"data row2 col10\" >1</td>\n",
       "      <td id=\"T_182b1_row2_col11\" class=\"data row2 col11\" >1</td>\n",
       "      <td id=\"T_182b1_row2_col12\" class=\"data row2 col12\" >0</td>\n",
       "      <td id=\"T_182b1_row2_col13\" class=\"data row2 col13\" >0</td>\n",
       "      <td id=\"T_182b1_row2_col14\" class=\"data row2 col14\" >0</td>\n",
       "      <td id=\"T_182b1_row2_col15\" class=\"data row2 col15\" >0</td>\n",
       "      <td id=\"T_182b1_row2_col16\" class=\"data row2 col16\" >0</td>\n",
       "      <td id=\"T_182b1_row2_col17\" class=\"data row2 col17\" >0</td>\n",
       "      <td id=\"T_182b1_row2_col18\" class=\"data row2 col18\" >50</td>\n",
       "    </tr>\n",
       "    <tr>\n",
       "      <th id=\"T_182b1_level0_row3\" class=\"row_heading level0 row3\" >3</th>\n",
       "      <td id=\"T_182b1_row3_col0\" class=\"data row3 col0\" >0</td>\n",
       "      <td id=\"T_182b1_row3_col1\" class=\"data row3 col1\" >0</td>\n",
       "      <td id=\"T_182b1_row3_col2\" class=\"data row3 col2\" >0</td>\n",
       "      <td id=\"T_182b1_row3_col3\" class=\"data row3 col3\" >49</td>\n",
       "      <td id=\"T_182b1_row3_col4\" class=\"data row3 col4\" >1</td>\n",
       "      <td id=\"T_182b1_row3_col5\" class=\"data row3 col5\" >0</td>\n",
       "      <td id=\"T_182b1_row3_col6\" class=\"data row3 col6\" >0</td>\n",
       "      <td id=\"T_182b1_row3_col7\" class=\"data row3 col7\" >0</td>\n",
       "      <td id=\"T_182b1_row3_col8\" class=\"data row3 col8\" >0</td>\n",
       "      <td id=\"T_182b1_row3_col9\" class=\"data row3 col9\" >0</td>\n",
       "      <td id=\"T_182b1_row3_col10\" class=\"data row3 col10\" >0</td>\n",
       "      <td id=\"T_182b1_row3_col11\" class=\"data row3 col11\" >0</td>\n",
       "      <td id=\"T_182b1_row3_col12\" class=\"data row3 col12\" >0</td>\n",
       "      <td id=\"T_182b1_row3_col13\" class=\"data row3 col13\" >0</td>\n",
       "      <td id=\"T_182b1_row3_col14\" class=\"data row3 col14\" >0</td>\n",
       "      <td id=\"T_182b1_row3_col15\" class=\"data row3 col15\" >0</td>\n",
       "      <td id=\"T_182b1_row3_col16\" class=\"data row3 col16\" >0</td>\n",
       "      <td id=\"T_182b1_row3_col17\" class=\"data row3 col17\" >0</td>\n",
       "      <td id=\"T_182b1_row3_col18\" class=\"data row3 col18\" >50</td>\n",
       "    </tr>\n",
       "    <tr>\n",
       "      <th id=\"T_182b1_level0_row4\" class=\"row_heading level0 row4\" >4</th>\n",
       "      <td id=\"T_182b1_row4_col0\" class=\"data row4 col0\" >0</td>\n",
       "      <td id=\"T_182b1_row4_col1\" class=\"data row4 col1\" >0</td>\n",
       "      <td id=\"T_182b1_row4_col2\" class=\"data row4 col2\" >0</td>\n",
       "      <td id=\"T_182b1_row4_col3\" class=\"data row4 col3\" >0</td>\n",
       "      <td id=\"T_182b1_row4_col4\" class=\"data row4 col4\" >43</td>\n",
       "      <td id=\"T_182b1_row4_col5\" class=\"data row4 col5\" >0</td>\n",
       "      <td id=\"T_182b1_row4_col6\" class=\"data row4 col6\" >0</td>\n",
       "      <td id=\"T_182b1_row4_col7\" class=\"data row4 col7\" >0</td>\n",
       "      <td id=\"T_182b1_row4_col8\" class=\"data row4 col8\" >0</td>\n",
       "      <td id=\"T_182b1_row4_col9\" class=\"data row4 col9\" >4</td>\n",
       "      <td id=\"T_182b1_row4_col10\" class=\"data row4 col10\" >0</td>\n",
       "      <td id=\"T_182b1_row4_col11\" class=\"data row4 col11\" >0</td>\n",
       "      <td id=\"T_182b1_row4_col12\" class=\"data row4 col12\" >2</td>\n",
       "      <td id=\"T_182b1_row4_col13\" class=\"data row4 col13\" >0</td>\n",
       "      <td id=\"T_182b1_row4_col14\" class=\"data row4 col14\" >0</td>\n",
       "      <td id=\"T_182b1_row4_col15\" class=\"data row4 col15\" >0</td>\n",
       "      <td id=\"T_182b1_row4_col16\" class=\"data row4 col16\" >1</td>\n",
       "      <td id=\"T_182b1_row4_col17\" class=\"data row4 col17\" >0</td>\n",
       "      <td id=\"T_182b1_row4_col18\" class=\"data row4 col18\" >50</td>\n",
       "    </tr>\n",
       "    <tr>\n",
       "      <th id=\"T_182b1_level0_row5\" class=\"row_heading level0 row5\" >5</th>\n",
       "      <td id=\"T_182b1_row5_col0\" class=\"data row5 col0\" >0</td>\n",
       "      <td id=\"T_182b1_row5_col1\" class=\"data row5 col1\" >0</td>\n",
       "      <td id=\"T_182b1_row5_col2\" class=\"data row5 col2\" >1</td>\n",
       "      <td id=\"T_182b1_row5_col3\" class=\"data row5 col3\" >0</td>\n",
       "      <td id=\"T_182b1_row5_col4\" class=\"data row5 col4\" >0</td>\n",
       "      <td id=\"T_182b1_row5_col5\" class=\"data row5 col5\" >46</td>\n",
       "      <td id=\"T_182b1_row5_col6\" class=\"data row5 col6\" >0</td>\n",
       "      <td id=\"T_182b1_row5_col7\" class=\"data row5 col7\" >2</td>\n",
       "      <td id=\"T_182b1_row5_col8\" class=\"data row5 col8\" >0</td>\n",
       "      <td id=\"T_182b1_row5_col9\" class=\"data row5 col9\" >0</td>\n",
       "      <td id=\"T_182b1_row5_col10\" class=\"data row5 col10\" >0</td>\n",
       "      <td id=\"T_182b1_row5_col11\" class=\"data row5 col11\" >0</td>\n",
       "      <td id=\"T_182b1_row5_col12\" class=\"data row5 col12\" >0</td>\n",
       "      <td id=\"T_182b1_row5_col13\" class=\"data row5 col13\" >1</td>\n",
       "      <td id=\"T_182b1_row5_col14\" class=\"data row5 col14\" >0</td>\n",
       "      <td id=\"T_182b1_row5_col15\" class=\"data row5 col15\" >0</td>\n",
       "      <td id=\"T_182b1_row5_col16\" class=\"data row5 col16\" >0</td>\n",
       "      <td id=\"T_182b1_row5_col17\" class=\"data row5 col17\" >0</td>\n",
       "      <td id=\"T_182b1_row5_col18\" class=\"data row5 col18\" >50</td>\n",
       "    </tr>\n",
       "    <tr>\n",
       "      <th id=\"T_182b1_level0_row6\" class=\"row_heading level0 row6\" >6</th>\n",
       "      <td id=\"T_182b1_row6_col0\" class=\"data row6 col0\" >0</td>\n",
       "      <td id=\"T_182b1_row6_col1\" class=\"data row6 col1\" >0</td>\n",
       "      <td id=\"T_182b1_row6_col2\" class=\"data row6 col2\" >0</td>\n",
       "      <td id=\"T_182b1_row6_col3\" class=\"data row6 col3\" >0</td>\n",
       "      <td id=\"T_182b1_row6_col4\" class=\"data row6 col4\" >0</td>\n",
       "      <td id=\"T_182b1_row6_col5\" class=\"data row6 col5\" >0</td>\n",
       "      <td id=\"T_182b1_row6_col6\" class=\"data row6 col6\" >50</td>\n",
       "      <td id=\"T_182b1_row6_col7\" class=\"data row6 col7\" >0</td>\n",
       "      <td id=\"T_182b1_row6_col8\" class=\"data row6 col8\" >0</td>\n",
       "      <td id=\"T_182b1_row6_col9\" class=\"data row6 col9\" >0</td>\n",
       "      <td id=\"T_182b1_row6_col10\" class=\"data row6 col10\" >0</td>\n",
       "      <td id=\"T_182b1_row6_col11\" class=\"data row6 col11\" >0</td>\n",
       "      <td id=\"T_182b1_row6_col12\" class=\"data row6 col12\" >0</td>\n",
       "      <td id=\"T_182b1_row6_col13\" class=\"data row6 col13\" >0</td>\n",
       "      <td id=\"T_182b1_row6_col14\" class=\"data row6 col14\" >0</td>\n",
       "      <td id=\"T_182b1_row6_col15\" class=\"data row6 col15\" >0</td>\n",
       "      <td id=\"T_182b1_row6_col16\" class=\"data row6 col16\" >0</td>\n",
       "      <td id=\"T_182b1_row6_col17\" class=\"data row6 col17\" >0</td>\n",
       "      <td id=\"T_182b1_row6_col18\" class=\"data row6 col18\" >50</td>\n",
       "    </tr>\n",
       "    <tr>\n",
       "      <th id=\"T_182b1_level0_row7\" class=\"row_heading level0 row7\" >7</th>\n",
       "      <td id=\"T_182b1_row7_col0\" class=\"data row7 col0\" >0</td>\n",
       "      <td id=\"T_182b1_row7_col1\" class=\"data row7 col1\" >0</td>\n",
       "      <td id=\"T_182b1_row7_col2\" class=\"data row7 col2\" >0</td>\n",
       "      <td id=\"T_182b1_row7_col3\" class=\"data row7 col3\" >0</td>\n",
       "      <td id=\"T_182b1_row7_col4\" class=\"data row7 col4\" >2</td>\n",
       "      <td id=\"T_182b1_row7_col5\" class=\"data row7 col5\" >0</td>\n",
       "      <td id=\"T_182b1_row7_col6\" class=\"data row7 col6\" >0</td>\n",
       "      <td id=\"T_182b1_row7_col7\" class=\"data row7 col7\" >48</td>\n",
       "      <td id=\"T_182b1_row7_col8\" class=\"data row7 col8\" >0</td>\n",
       "      <td id=\"T_182b1_row7_col9\" class=\"data row7 col9\" >0</td>\n",
       "      <td id=\"T_182b1_row7_col10\" class=\"data row7 col10\" >0</td>\n",
       "      <td id=\"T_182b1_row7_col11\" class=\"data row7 col11\" >0</td>\n",
       "      <td id=\"T_182b1_row7_col12\" class=\"data row7 col12\" >0</td>\n",
       "      <td id=\"T_182b1_row7_col13\" class=\"data row7 col13\" >0</td>\n",
       "      <td id=\"T_182b1_row7_col14\" class=\"data row7 col14\" >0</td>\n",
       "      <td id=\"T_182b1_row7_col15\" class=\"data row7 col15\" >0</td>\n",
       "      <td id=\"T_182b1_row7_col16\" class=\"data row7 col16\" >0</td>\n",
       "      <td id=\"T_182b1_row7_col17\" class=\"data row7 col17\" >0</td>\n",
       "      <td id=\"T_182b1_row7_col18\" class=\"data row7 col18\" >50</td>\n",
       "    </tr>\n",
       "    <tr>\n",
       "      <th id=\"T_182b1_level0_row8\" class=\"row_heading level0 row8\" >16</th>\n",
       "      <td id=\"T_182b1_row8_col0\" class=\"data row8 col0\" >0</td>\n",
       "      <td id=\"T_182b1_row8_col1\" class=\"data row8 col1\" >6</td>\n",
       "      <td id=\"T_182b1_row8_col2\" class=\"data row8 col2\" >3</td>\n",
       "      <td id=\"T_182b1_row8_col3\" class=\"data row8 col3\" >0</td>\n",
       "      <td id=\"T_182b1_row8_col4\" class=\"data row8 col4\" >1</td>\n",
       "      <td id=\"T_182b1_row8_col5\" class=\"data row8 col5\" >0</td>\n",
       "      <td id=\"T_182b1_row8_col6\" class=\"data row8 col6\" >1</td>\n",
       "      <td id=\"T_182b1_row8_col7\" class=\"data row8 col7\" >0</td>\n",
       "      <td id=\"T_182b1_row8_col8\" class=\"data row8 col8\" >39</td>\n",
       "      <td id=\"T_182b1_row8_col9\" class=\"data row8 col9\" >0</td>\n",
       "      <td id=\"T_182b1_row8_col10\" class=\"data row8 col10\" >0</td>\n",
       "      <td id=\"T_182b1_row8_col11\" class=\"data row8 col11\" >0</td>\n",
       "      <td id=\"T_182b1_row8_col12\" class=\"data row8 col12\" >0</td>\n",
       "      <td id=\"T_182b1_row8_col13\" class=\"data row8 col13\" >0</td>\n",
       "      <td id=\"T_182b1_row8_col14\" class=\"data row8 col14\" >0</td>\n",
       "      <td id=\"T_182b1_row8_col15\" class=\"data row8 col15\" >0</td>\n",
       "      <td id=\"T_182b1_row8_col16\" class=\"data row8 col16\" >0</td>\n",
       "      <td id=\"T_182b1_row8_col17\" class=\"data row8 col17\" >0</td>\n",
       "      <td id=\"T_182b1_row8_col18\" class=\"data row8 col18\" >50</td>\n",
       "    </tr>\n",
       "    <tr>\n",
       "      <th id=\"T_182b1_level0_row9\" class=\"row_heading level0 row9\" >24</th>\n",
       "      <td id=\"T_182b1_row9_col0\" class=\"data row9 col0\" >0</td>\n",
       "      <td id=\"T_182b1_row9_col1\" class=\"data row9 col1\" >0</td>\n",
       "      <td id=\"T_182b1_row9_col2\" class=\"data row9 col2\" >6</td>\n",
       "      <td id=\"T_182b1_row9_col3\" class=\"data row9 col3\" >0</td>\n",
       "      <td id=\"T_182b1_row9_col4\" class=\"data row9 col4\" >12</td>\n",
       "      <td id=\"T_182b1_row9_col5\" class=\"data row9 col5\" >0</td>\n",
       "      <td id=\"T_182b1_row9_col6\" class=\"data row9 col6\" >0</td>\n",
       "      <td id=\"T_182b1_row9_col7\" class=\"data row9 col7\" >1</td>\n",
       "      <td id=\"T_182b1_row9_col8\" class=\"data row9 col8\" >0</td>\n",
       "      <td id=\"T_182b1_row9_col9\" class=\"data row9 col9\" >29</td>\n",
       "      <td id=\"T_182b1_row9_col10\" class=\"data row9 col10\" >0</td>\n",
       "      <td id=\"T_182b1_row9_col11\" class=\"data row9 col11\" >0</td>\n",
       "      <td id=\"T_182b1_row9_col12\" class=\"data row9 col12\" >1</td>\n",
       "      <td id=\"T_182b1_row9_col13\" class=\"data row9 col13\" >0</td>\n",
       "      <td id=\"T_182b1_row9_col14\" class=\"data row9 col14\" >0</td>\n",
       "      <td id=\"T_182b1_row9_col15\" class=\"data row9 col15\" >0</td>\n",
       "      <td id=\"T_182b1_row9_col16\" class=\"data row9 col16\" >0</td>\n",
       "      <td id=\"T_182b1_row9_col17\" class=\"data row9 col17\" >1</td>\n",
       "      <td id=\"T_182b1_row9_col18\" class=\"data row9 col18\" >50</td>\n",
       "    </tr>\n",
       "    <tr>\n",
       "      <th id=\"T_182b1_level0_row10\" class=\"row_heading level0 row10\" >27</th>\n",
       "      <td id=\"T_182b1_row10_col0\" class=\"data row10 col0\" >0</td>\n",
       "      <td id=\"T_182b1_row10_col1\" class=\"data row10 col1\" >0</td>\n",
       "      <td id=\"T_182b1_row10_col2\" class=\"data row10 col2\" >1</td>\n",
       "      <td id=\"T_182b1_row10_col3\" class=\"data row10 col3\" >0</td>\n",
       "      <td id=\"T_182b1_row10_col4\" class=\"data row10 col4\" >1</td>\n",
       "      <td id=\"T_182b1_row10_col5\" class=\"data row10 col5\" >0</td>\n",
       "      <td id=\"T_182b1_row10_col6\" class=\"data row10 col6\" >0</td>\n",
       "      <td id=\"T_182b1_row10_col7\" class=\"data row10 col7\" >0</td>\n",
       "      <td id=\"T_182b1_row10_col8\" class=\"data row10 col8\" >0</td>\n",
       "      <td id=\"T_182b1_row10_col9\" class=\"data row10 col9\" >2</td>\n",
       "      <td id=\"T_182b1_row10_col10\" class=\"data row10 col10\" >0</td>\n",
       "      <td id=\"T_182b1_row10_col11\" class=\"data row10 col11\" >0</td>\n",
       "      <td id=\"T_182b1_row10_col12\" class=\"data row10 col12\" >46</td>\n",
       "      <td id=\"T_182b1_row10_col13\" class=\"data row10 col13\" >0</td>\n",
       "      <td id=\"T_182b1_row10_col14\" class=\"data row10 col14\" >0</td>\n",
       "      <td id=\"T_182b1_row10_col15\" class=\"data row10 col15\" >0</td>\n",
       "      <td id=\"T_182b1_row10_col16\" class=\"data row10 col16\" >0</td>\n",
       "      <td id=\"T_182b1_row10_col17\" class=\"data row10 col17\" >0</td>\n",
       "      <td id=\"T_182b1_row10_col18\" class=\"data row10 col18\" >50</td>\n",
       "    </tr>\n",
       "    <tr>\n",
       "      <th id=\"T_182b1_level0_row11\" class=\"row_heading level0 row11\" >35</th>\n",
       "      <td id=\"T_182b1_row11_col0\" class=\"data row11 col0\" >0</td>\n",
       "      <td id=\"T_182b1_row11_col1\" class=\"data row11 col1\" >0</td>\n",
       "      <td id=\"T_182b1_row11_col2\" class=\"data row11 col2\" >0</td>\n",
       "      <td id=\"T_182b1_row11_col3\" class=\"data row11 col3\" >4</td>\n",
       "      <td id=\"T_182b1_row11_col4\" class=\"data row11 col4\" >0</td>\n",
       "      <td id=\"T_182b1_row11_col5\" class=\"data row11 col5\" >2</td>\n",
       "      <td id=\"T_182b1_row11_col6\" class=\"data row11 col6\" >0</td>\n",
       "      <td id=\"T_182b1_row11_col7\" class=\"data row11 col7\" >0</td>\n",
       "      <td id=\"T_182b1_row11_col8\" class=\"data row11 col8\" >0</td>\n",
       "      <td id=\"T_182b1_row11_col9\" class=\"data row11 col9\" >0</td>\n",
       "      <td id=\"T_182b1_row11_col10\" class=\"data row11 col10\" >0</td>\n",
       "      <td id=\"T_182b1_row11_col11\" class=\"data row11 col11\" >0</td>\n",
       "      <td id=\"T_182b1_row11_col12\" class=\"data row11 col12\" >0</td>\n",
       "      <td id=\"T_182b1_row11_col13\" class=\"data row11 col13\" >44</td>\n",
       "      <td id=\"T_182b1_row11_col14\" class=\"data row11 col14\" >0</td>\n",
       "      <td id=\"T_182b1_row11_col15\" class=\"data row11 col15\" >0</td>\n",
       "      <td id=\"T_182b1_row11_col16\" class=\"data row11 col16\" >0</td>\n",
       "      <td id=\"T_182b1_row11_col17\" class=\"data row11 col17\" >0</td>\n",
       "      <td id=\"T_182b1_row11_col18\" class=\"data row11 col18\" >50</td>\n",
       "    </tr>\n",
       "    <tr>\n",
       "      <th id=\"T_182b1_level0_row12\" class=\"row_heading level0 row12\" >37</th>\n",
       "      <td id=\"T_182b1_row12_col0\" class=\"data row12 col0\" >0</td>\n",
       "      <td id=\"T_182b1_row12_col1\" class=\"data row12 col1\" >0</td>\n",
       "      <td id=\"T_182b1_row12_col2\" class=\"data row12 col2\" >0</td>\n",
       "      <td id=\"T_182b1_row12_col3\" class=\"data row12 col3\" >0</td>\n",
       "      <td id=\"T_182b1_row12_col4\" class=\"data row12 col4\" >0</td>\n",
       "      <td id=\"T_182b1_row12_col5\" class=\"data row12 col5\" >0</td>\n",
       "      <td id=\"T_182b1_row12_col6\" class=\"data row12 col6\" >0</td>\n",
       "      <td id=\"T_182b1_row12_col7\" class=\"data row12 col7\" >0</td>\n",
       "      <td id=\"T_182b1_row12_col8\" class=\"data row12 col8\" >0</td>\n",
       "      <td id=\"T_182b1_row12_col9\" class=\"data row12 col9\" >0</td>\n",
       "      <td id=\"T_182b1_row12_col10\" class=\"data row12 col10\" >0</td>\n",
       "      <td id=\"T_182b1_row12_col11\" class=\"data row12 col11\" >0</td>\n",
       "      <td id=\"T_182b1_row12_col12\" class=\"data row12 col12\" >0</td>\n",
       "      <td id=\"T_182b1_row12_col13\" class=\"data row12 col13\" >0</td>\n",
       "      <td id=\"T_182b1_row12_col14\" class=\"data row12 col14\" >48</td>\n",
       "      <td id=\"T_182b1_row12_col15\" class=\"data row12 col15\" >0</td>\n",
       "      <td id=\"T_182b1_row12_col16\" class=\"data row12 col16\" >2</td>\n",
       "      <td id=\"T_182b1_row12_col17\" class=\"data row12 col17\" >0</td>\n",
       "      <td id=\"T_182b1_row12_col18\" class=\"data row12 col18\" >50</td>\n",
       "    </tr>\n",
       "    <tr>\n",
       "      <th id=\"T_182b1_level0_row13\" class=\"row_heading level0 row13\" >267</th>\n",
       "      <td id=\"T_182b1_row13_col0\" class=\"data row13 col0\" >0</td>\n",
       "      <td id=\"T_182b1_row13_col1\" class=\"data row13 col1\" >0</td>\n",
       "      <td id=\"T_182b1_row13_col2\" class=\"data row13 col2\" >1</td>\n",
       "      <td id=\"T_182b1_row13_col3\" class=\"data row13 col3\" >0</td>\n",
       "      <td id=\"T_182b1_row13_col4\" class=\"data row13 col4\" >4</td>\n",
       "      <td id=\"T_182b1_row13_col5\" class=\"data row13 col5\" >0</td>\n",
       "      <td id=\"T_182b1_row13_col6\" class=\"data row13 col6\" >0</td>\n",
       "      <td id=\"T_182b1_row13_col7\" class=\"data row13 col7\" >0</td>\n",
       "      <td id=\"T_182b1_row13_col8\" class=\"data row13 col8\" >0</td>\n",
       "      <td id=\"T_182b1_row13_col9\" class=\"data row13 col9\" >2</td>\n",
       "      <td id=\"T_182b1_row13_col10\" class=\"data row13 col10\" >0</td>\n",
       "      <td id=\"T_182b1_row13_col11\" class=\"data row13 col11\" >1</td>\n",
       "      <td id=\"T_182b1_row13_col12\" class=\"data row13 col12\" >0</td>\n",
       "      <td id=\"T_182b1_row13_col13\" class=\"data row13 col13\" >0</td>\n",
       "      <td id=\"T_182b1_row13_col14\" class=\"data row13 col14\" >0</td>\n",
       "      <td id=\"T_182b1_row13_col15\" class=\"data row13 col15\" >42</td>\n",
       "      <td id=\"T_182b1_row13_col16\" class=\"data row13 col16\" >0</td>\n",
       "      <td id=\"T_182b1_row13_col17\" class=\"data row13 col17\" >0</td>\n",
       "      <td id=\"T_182b1_row13_col18\" class=\"data row13 col18\" >50</td>\n",
       "    </tr>\n",
       "    <tr>\n",
       "      <th id=\"T_182b1_level0_row14\" class=\"row_heading level0 row14\" >357</th>\n",
       "      <td id=\"T_182b1_row14_col0\" class=\"data row14 col0\" >0</td>\n",
       "      <td id=\"T_182b1_row14_col1\" class=\"data row14 col1\" >0</td>\n",
       "      <td id=\"T_182b1_row14_col2\" class=\"data row14 col2\" >0</td>\n",
       "      <td id=\"T_182b1_row14_col3\" class=\"data row14 col3\" >0</td>\n",
       "      <td id=\"T_182b1_row14_col4\" class=\"data row14 col4\" >0</td>\n",
       "      <td id=\"T_182b1_row14_col5\" class=\"data row14 col5\" >0</td>\n",
       "      <td id=\"T_182b1_row14_col6\" class=\"data row14 col6\" >0</td>\n",
       "      <td id=\"T_182b1_row14_col7\" class=\"data row14 col7\" >2</td>\n",
       "      <td id=\"T_182b1_row14_col8\" class=\"data row14 col8\" >0</td>\n",
       "      <td id=\"T_182b1_row14_col9\" class=\"data row14 col9\" >0</td>\n",
       "      <td id=\"T_182b1_row14_col10\" class=\"data row14 col10\" >0</td>\n",
       "      <td id=\"T_182b1_row14_col11\" class=\"data row14 col11\" >0</td>\n",
       "      <td id=\"T_182b1_row14_col12\" class=\"data row14 col12\" >1</td>\n",
       "      <td id=\"T_182b1_row14_col13\" class=\"data row14 col13\" >0</td>\n",
       "      <td id=\"T_182b1_row14_col14\" class=\"data row14 col14\" >3</td>\n",
       "      <td id=\"T_182b1_row14_col15\" class=\"data row14 col15\" >0</td>\n",
       "      <td id=\"T_182b1_row14_col16\" class=\"data row14 col16\" >44</td>\n",
       "      <td id=\"T_182b1_row14_col17\" class=\"data row14 col17\" >0</td>\n",
       "      <td id=\"T_182b1_row14_col18\" class=\"data row14 col18\" >50</td>\n",
       "    </tr>\n",
       "  </tbody>\n",
       "</table>\n"
      ],
      "text/plain": [
       "<pandas.io.formats.style.Styler at 0x2016a792e80>"
      ]
     },
     "execution_count": 16,
     "metadata": {},
     "output_type": "execute_result"
    }
   ],
   "source": [
    "dfzip = ch.convert_and_zip_label(y_test, y_pred)\n",
    "ch.cm_multi(dfzip)"
   ]
  },
  {
   "cell_type": "code",
   "execution_count": 18,
   "id": "baffa8fd",
   "metadata": {},
   "outputs": [
    {
     "data": {
      "text/plain": [
       "{'algorithm': 'cnn_kerastuner_hyperband',\n",
       " 'params': 'kerastuner_hyperband',\n",
       " 'best_param': {'conv_layer': 4,\n",
       "  'filter': 32,\n",
       "  'kernel': 16,\n",
       "  'maxpool': 2,\n",
       "  'bn_conv': 0,\n",
       "  'bn_conv_position': 2,\n",
       "  'dropout_conv': 1,\n",
       "  'dropout_rate': 0.1,\n",
       "  'dense_layer': 4,\n",
       "  'bn_dense': 0,\n",
       "  'bn_dense_position': 2,\n",
       "  'dropout_dense': 1,\n",
       "  'unit1': 320,\n",
       "  'unit2': 200,\n",
       "  'learning_rate': 0.0018719140580268547,\n",
       "  'unit3': 160,\n",
       "  'batch_size': 4,\n",
       "  'unit4': 40,\n",
       "  'tuner/epochs': 100,\n",
       "  'tuner/initial_epoch': 0,\n",
       "  'tuner/bracket': 0,\n",
       "  'tuner/round': 0},\n",
       " 'rec_0': 1.0,\n",
       " 'pre_0': 1.0,\n",
       " 'f1_0': 1.0,\n",
       " 'rec_weighted': 0.9216666666666666,\n",
       " 'pre_weighted': 0.9600582590495195,\n",
       " 'f1_weighted': 0.9401421568411905,\n",
       " 'acc': 0.8866666666666667}"
      ]
     },
     "execution_count": 18,
     "metadata": {},
     "output_type": "execute_result"
    }
   ],
   "source": [
    "res = ch.collect_results_mlc(y_test, y_pred, algorithm=\"cnn_kerastuner_hyperband\", params=\"kerastuner_hyperband\", \n",
    "                             best_param=best_param)\n",
    "res"
   ]
  },
  {
   "cell_type": "code",
   "execution_count": 19,
   "id": "25bc0c8b",
   "metadata": {},
   "outputs": [
    {
     "name": "stdout",
     "output_type": "stream",
     "text": [
      "existing file mlc_algorithm_adaption_hyperopt_results_v2.4.json opened and results of cnn_kerastuner_hyperband saved.\n"
     ]
    }
   ],
   "source": [
    "#ch.save_results_json(filename=\"mlc_algorithm_adaption_hyperopt_results_v2.4.json\", \n",
    "                     key_algorithm = \"cnn_kerastuner_hyperband\", \n",
    "                     hyperopt_result = res)"
   ]
  },
  {
   "cell_type": "code",
   "execution_count": null,
   "id": "138650cc",
   "metadata": {},
   "outputs": [],
   "source": []
  }
 ],
 "metadata": {
  "kernelspec": {
   "display_name": "Python 3 (ipykernel)",
   "language": "python",
   "name": "python3"
  },
  "language_info": {
   "codemirror_mode": {
    "name": "ipython",
    "version": 3
   },
   "file_extension": ".py",
   "mimetype": "text/x-python",
   "name": "python",
   "nbconvert_exporter": "python",
   "pygments_lexer": "ipython3",
   "version": "3.10.6"
  }
 },
 "nbformat": 4,
 "nbformat_minor": 5
}
