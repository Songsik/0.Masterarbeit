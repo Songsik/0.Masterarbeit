{
 "cells": [
  {
   "cell_type": "markdown",
   "id": "a90b21f2",
   "metadata": {},
   "source": [
    "# Overview of this jupyter notebook\n",
    "\n",
    "1. Load the dataframes\n",
    "<br>1.1 Padding dataframes with zeros\n",
    "<br>1.2 Shuffle and split the data into train and test\n",
    "2. Preprocess training data\n",
    "<br>2.1 Build feature and label for training and save as .npy\n",
    "3. Preprocess test data\n",
    "<br>3.1 Build feature and label for test and save as .npy"
   ]
  },
  {
   "cell_type": "code",
   "execution_count": 1,
   "id": "cebfb90f",
   "metadata": {},
   "outputs": [],
   "source": [
    "import pandas as pd\n",
    "import numpy as np\n",
    "import plotly.graph_objects as go\n",
    "import plotly.express as px\n",
    "import matplotlib.pyplot as plt\n",
    "from tensorflow.keras.utils import to_categorical\n",
    "from sklearn.model_selection import train_test_split\n",
    "%matplotlib inline\n",
    "from warnings import filterwarnings\n",
    "filterwarnings('ignore')"
   ]
  },
  {
   "cell_type": "code",
   "execution_count": 2,
   "id": "dc4b51ae",
   "metadata": {},
   "outputs": [
    {
     "name": "stdout",
     "output_type": "stream",
     "text": [
      "<module 'library.faps_color' from 'C:\\\\Users\\\\songs\\\\OneDrive\\\\Desktop\\\\0. MA_FAPS\\\\04_Code\\\\library\\\\faps_color.py'>\n"
     ]
    }
   ],
   "source": [
    "import os\n",
    "import json\n",
    "import random\n",
    "import pickle\n",
    "import importlib\n",
    "from library import faps_color as fapsc        # this module contains the color combination of FAPS Institute\n",
    "print(importlib.reload(fapsc))"
   ]
  },
  {
   "cell_type": "markdown",
   "id": "a84091cb",
   "metadata": {},
   "source": [
    "# 1. Load the dataframes"
   ]
  },
  {
   "cell_type": "code",
   "execution_count": 3,
   "id": "0c919167",
   "metadata": {},
   "outputs": [],
   "source": [
    "classes = ['0_in_ordnung',\n",
    "           '1_kleine_durchgangsbohrung',\n",
    "           '2_versetzte_fuegepartner',\n",
    "           '3_unebene_fuegeflaeche',\n",
    "           '4_span_im_gewinde',\n",
    "           '5_verschmutzte_schraube',\n",
    "           '6_fremdkoerper_am_gewindeende',\n",
    "           '7_beschaedigte_schraube']"
   ]
  },
  {
   "cell_type": "code",
   "execution_count": 4,
   "id": "f6b42662",
   "metadata": {},
   "outputs": [],
   "source": [
    "df0 = pd.read_pickle(\"dataframes/df0_v2.pkl\")\n",
    "df1 = pd.read_pickle(\"dataframes/df1_v2.pkl\")\n",
    "df2 = pd.read_pickle(\"dataframes/df2_v2.pkl\")\n",
    "df3 = pd.read_pickle(\"dataframes/df3_v2.pkl\")\n",
    "df4 = pd.read_pickle(\"dataframes/df4_v2.pkl\")\n",
    "df5 = pd.read_pickle(\"dataframes/df5_v2.pkl\")\n",
    "df6 = pd.read_pickle(\"dataframes/df6_v2.pkl\")\n",
    "df7 = pd.read_pickle(\"dataframes/df7_v2.pkl\")"
   ]
  },
  {
   "cell_type": "code",
   "execution_count": 5,
   "id": "3b376a23",
   "metadata": {},
   "outputs": [],
   "source": [
    "df16 = pd.read_pickle(\"dataframes/df16_v2.pkl\")\n",
    "df24 = pd.read_pickle(\"dataframes/df24_v2.pkl\")\n",
    "df27 = pd.read_pickle(\"dataframes/df27_v2.pkl\")\n",
    "df35 = pd.read_pickle(\"dataframes/df35_v2.pkl\")\n",
    "df37 = pd.read_pickle(\"dataframes/df37_v2.pkl\")\n",
    "df267 = pd.read_pickle(\"dataframes/df267_v2.pkl\")\n",
    "df357 = pd.read_pickle(\"dataframes/df357_v2.pkl\")"
   ]
  },
  {
   "cell_type": "code",
   "execution_count": 6,
   "id": "40be55ff",
   "metadata": {},
   "outputs": [
    {
     "data": {
      "text/plain": [
       "(775, 800)"
      ]
     },
     "execution_count": 6,
     "metadata": {},
     "output_type": "execute_result"
    }
   ],
   "source": [
    "df0.shape"
   ]
  },
  {
   "cell_type": "code",
   "execution_count": 7,
   "id": "f41a0de6",
   "metadata": {},
   "outputs": [
    {
     "data": {
      "text/html": [
       "<div>\n",
       "<style scoped>\n",
       "    .dataframe tbody tr th:only-of-type {\n",
       "        vertical-align: middle;\n",
       "    }\n",
       "\n",
       "    .dataframe tbody tr th {\n",
       "        vertical-align: top;\n",
       "    }\n",
       "\n",
       "    .dataframe thead th {\n",
       "        text-align: right;\n",
       "    }\n",
       "</style>\n",
       "<table border=\"1\" class=\"dataframe\">\n",
       "  <thead>\n",
       "    <tr style=\"text-align: right;\">\n",
       "      <th></th>\n",
       "      <th>0</th>\n",
       "      <th>1</th>\n",
       "      <th>2</th>\n",
       "      <th>3</th>\n",
       "      <th>4</th>\n",
       "      <th>5</th>\n",
       "      <th>6</th>\n",
       "      <th>7</th>\n",
       "      <th>8</th>\n",
       "      <th>9</th>\n",
       "      <th>...</th>\n",
       "      <th>790</th>\n",
       "      <th>791</th>\n",
       "      <th>792</th>\n",
       "      <th>793</th>\n",
       "      <th>794</th>\n",
       "      <th>795</th>\n",
       "      <th>796</th>\n",
       "      <th>797</th>\n",
       "      <th>798</th>\n",
       "      <th>799</th>\n",
       "    </tr>\n",
       "  </thead>\n",
       "  <tbody>\n",
       "    <tr>\n",
       "      <th>0</th>\n",
       "      <td>0.00448</td>\n",
       "      <td>0.00896</td>\n",
       "      <td>0.00448</td>\n",
       "      <td>0.01792</td>\n",
       "      <td>0.01344</td>\n",
       "      <td>0.00896</td>\n",
       "      <td>0.01792</td>\n",
       "      <td>0.02240</td>\n",
       "      <td>0.02688</td>\n",
       "      <td>0.03136</td>\n",
       "      <td>...</td>\n",
       "      <td>0.01792</td>\n",
       "      <td>0.02688</td>\n",
       "      <td>0.00896</td>\n",
       "      <td>0.00896</td>\n",
       "      <td>0.00000</td>\n",
       "      <td>0.01344</td>\n",
       "      <td>0.00448</td>\n",
       "      <td>0.00448</td>\n",
       "      <td>0.03136</td>\n",
       "      <td>0.00896</td>\n",
       "    </tr>\n",
       "    <tr>\n",
       "      <th>1</th>\n",
       "      <td>0.00448</td>\n",
       "      <td>0.00896</td>\n",
       "      <td>0.00000</td>\n",
       "      <td>0.01792</td>\n",
       "      <td>0.01344</td>\n",
       "      <td>0.00896</td>\n",
       "      <td>0.01792</td>\n",
       "      <td>0.02240</td>\n",
       "      <td>0.02688</td>\n",
       "      <td>0.03136</td>\n",
       "      <td>...</td>\n",
       "      <td>0.01792</td>\n",
       "      <td>0.02688</td>\n",
       "      <td>0.00896</td>\n",
       "      <td>0.00896</td>\n",
       "      <td>0.00000</td>\n",
       "      <td>0.01344</td>\n",
       "      <td>0.00448</td>\n",
       "      <td>0.00448</td>\n",
       "      <td>0.02688</td>\n",
       "      <td>0.00896</td>\n",
       "    </tr>\n",
       "    <tr>\n",
       "      <th>2</th>\n",
       "      <td>0.00896</td>\n",
       "      <td>0.00896</td>\n",
       "      <td>0.00000</td>\n",
       "      <td>0.01792</td>\n",
       "      <td>0.00896</td>\n",
       "      <td>0.00896</td>\n",
       "      <td>0.00896</td>\n",
       "      <td>0.00448</td>\n",
       "      <td>0.01792</td>\n",
       "      <td>0.00896</td>\n",
       "      <td>...</td>\n",
       "      <td>0.00896</td>\n",
       "      <td>0.00896</td>\n",
       "      <td>0.00000</td>\n",
       "      <td>0.00448</td>\n",
       "      <td>0.00448</td>\n",
       "      <td>0.01792</td>\n",
       "      <td>0.00896</td>\n",
       "      <td>0.01344</td>\n",
       "      <td>0.00896</td>\n",
       "      <td>0.01344</td>\n",
       "    </tr>\n",
       "    <tr>\n",
       "      <th>3</th>\n",
       "      <td>0.00896</td>\n",
       "      <td>0.01344</td>\n",
       "      <td>0.00000</td>\n",
       "      <td>0.00896</td>\n",
       "      <td>0.00000</td>\n",
       "      <td>0.00896</td>\n",
       "      <td>0.00000</td>\n",
       "      <td>0.00000</td>\n",
       "      <td>0.01344</td>\n",
       "      <td>0.00000</td>\n",
       "      <td>...</td>\n",
       "      <td>0.00000</td>\n",
       "      <td>0.00000</td>\n",
       "      <td>0.00000</td>\n",
       "      <td>0.00000</td>\n",
       "      <td>0.00448</td>\n",
       "      <td>0.01344</td>\n",
       "      <td>0.00896</td>\n",
       "      <td>0.01344</td>\n",
       "      <td>0.00448</td>\n",
       "      <td>0.01344</td>\n",
       "    </tr>\n",
       "    <tr>\n",
       "      <th>4</th>\n",
       "      <td>0.01344</td>\n",
       "      <td>0.01792</td>\n",
       "      <td>0.00000</td>\n",
       "      <td>0.01792</td>\n",
       "      <td>0.00896</td>\n",
       "      <td>0.01344</td>\n",
       "      <td>0.00896</td>\n",
       "      <td>0.00448</td>\n",
       "      <td>0.01792</td>\n",
       "      <td>0.00896</td>\n",
       "      <td>...</td>\n",
       "      <td>0.00448</td>\n",
       "      <td>0.00896</td>\n",
       "      <td>0.00000</td>\n",
       "      <td>0.00448</td>\n",
       "      <td>0.00896</td>\n",
       "      <td>0.01792</td>\n",
       "      <td>0.00896</td>\n",
       "      <td>0.01792</td>\n",
       "      <td>0.00896</td>\n",
       "      <td>0.01792</td>\n",
       "    </tr>\n",
       "    <tr>\n",
       "      <th>...</th>\n",
       "      <td>...</td>\n",
       "      <td>...</td>\n",
       "      <td>...</td>\n",
       "      <td>...</td>\n",
       "      <td>...</td>\n",
       "      <td>...</td>\n",
       "      <td>...</td>\n",
       "      <td>...</td>\n",
       "      <td>...</td>\n",
       "      <td>...</td>\n",
       "      <td>...</td>\n",
       "      <td>...</td>\n",
       "      <td>...</td>\n",
       "      <td>...</td>\n",
       "      <td>...</td>\n",
       "      <td>...</td>\n",
       "      <td>...</td>\n",
       "      <td>...</td>\n",
       "      <td>...</td>\n",
       "      <td>...</td>\n",
       "      <td>...</td>\n",
       "    </tr>\n",
       "    <tr>\n",
       "      <th>770</th>\n",
       "      <td>0.00000</td>\n",
       "      <td>0.00000</td>\n",
       "      <td>0.00000</td>\n",
       "      <td>0.00000</td>\n",
       "      <td>0.00000</td>\n",
       "      <td>0.00000</td>\n",
       "      <td>0.00000</td>\n",
       "      <td>0.00000</td>\n",
       "      <td>0.00000</td>\n",
       "      <td>0.00000</td>\n",
       "      <td>...</td>\n",
       "      <td>0.00000</td>\n",
       "      <td>0.00000</td>\n",
       "      <td>0.38080</td>\n",
       "      <td>0.00000</td>\n",
       "      <td>0.00000</td>\n",
       "      <td>0.00000</td>\n",
       "      <td>0.00000</td>\n",
       "      <td>0.00000</td>\n",
       "      <td>0.00000</td>\n",
       "      <td>0.00000</td>\n",
       "    </tr>\n",
       "    <tr>\n",
       "      <th>771</th>\n",
       "      <td>0.00000</td>\n",
       "      <td>0.00000</td>\n",
       "      <td>0.00000</td>\n",
       "      <td>0.00000</td>\n",
       "      <td>0.00000</td>\n",
       "      <td>0.00000</td>\n",
       "      <td>0.00000</td>\n",
       "      <td>0.00000</td>\n",
       "      <td>0.00000</td>\n",
       "      <td>0.00000</td>\n",
       "      <td>...</td>\n",
       "      <td>0.00000</td>\n",
       "      <td>0.00000</td>\n",
       "      <td>0.20160</td>\n",
       "      <td>0.00000</td>\n",
       "      <td>0.00000</td>\n",
       "      <td>0.00000</td>\n",
       "      <td>0.00000</td>\n",
       "      <td>0.00000</td>\n",
       "      <td>0.00000</td>\n",
       "      <td>0.00000</td>\n",
       "    </tr>\n",
       "    <tr>\n",
       "      <th>772</th>\n",
       "      <td>0.00000</td>\n",
       "      <td>0.00000</td>\n",
       "      <td>0.00000</td>\n",
       "      <td>0.00000</td>\n",
       "      <td>0.00000</td>\n",
       "      <td>0.00000</td>\n",
       "      <td>0.00000</td>\n",
       "      <td>0.00000</td>\n",
       "      <td>0.00000</td>\n",
       "      <td>0.00000</td>\n",
       "      <td>...</td>\n",
       "      <td>0.00000</td>\n",
       "      <td>0.00000</td>\n",
       "      <td>0.00000</td>\n",
       "      <td>0.00000</td>\n",
       "      <td>0.00000</td>\n",
       "      <td>0.00000</td>\n",
       "      <td>0.00000</td>\n",
       "      <td>0.00000</td>\n",
       "      <td>0.00000</td>\n",
       "      <td>0.00000</td>\n",
       "    </tr>\n",
       "    <tr>\n",
       "      <th>773</th>\n",
       "      <td>0.00000</td>\n",
       "      <td>0.00000</td>\n",
       "      <td>0.00000</td>\n",
       "      <td>0.00000</td>\n",
       "      <td>0.00000</td>\n",
       "      <td>0.00000</td>\n",
       "      <td>0.00000</td>\n",
       "      <td>0.00000</td>\n",
       "      <td>0.00000</td>\n",
       "      <td>0.00000</td>\n",
       "      <td>...</td>\n",
       "      <td>0.00000</td>\n",
       "      <td>0.00000</td>\n",
       "      <td>0.00000</td>\n",
       "      <td>0.00000</td>\n",
       "      <td>0.00000</td>\n",
       "      <td>0.00000</td>\n",
       "      <td>0.00000</td>\n",
       "      <td>0.00000</td>\n",
       "      <td>0.00000</td>\n",
       "      <td>0.00000</td>\n",
       "    </tr>\n",
       "    <tr>\n",
       "      <th>774</th>\n",
       "      <td>0.00000</td>\n",
       "      <td>0.00000</td>\n",
       "      <td>0.00000</td>\n",
       "      <td>0.00000</td>\n",
       "      <td>0.00000</td>\n",
       "      <td>0.00000</td>\n",
       "      <td>0.00000</td>\n",
       "      <td>0.00000</td>\n",
       "      <td>0.00000</td>\n",
       "      <td>0.00000</td>\n",
       "      <td>...</td>\n",
       "      <td>0.00000</td>\n",
       "      <td>0.00000</td>\n",
       "      <td>0.00000</td>\n",
       "      <td>0.00000</td>\n",
       "      <td>0.00000</td>\n",
       "      <td>0.00000</td>\n",
       "      <td>0.00000</td>\n",
       "      <td>0.00000</td>\n",
       "      <td>0.00000</td>\n",
       "      <td>0.00000</td>\n",
       "    </tr>\n",
       "  </tbody>\n",
       "</table>\n",
       "<p>775 rows × 800 columns</p>\n",
       "</div>"
      ],
      "text/plain": [
       "         0        1        2        3        4        5        6        7    \\\n",
       "0    0.00448  0.00896  0.00448  0.01792  0.01344  0.00896  0.01792  0.02240   \n",
       "1    0.00448  0.00896  0.00000  0.01792  0.01344  0.00896  0.01792  0.02240   \n",
       "2    0.00896  0.00896  0.00000  0.01792  0.00896  0.00896  0.00896  0.00448   \n",
       "3    0.00896  0.01344  0.00000  0.00896  0.00000  0.00896  0.00000  0.00000   \n",
       "4    0.01344  0.01792  0.00000  0.01792  0.00896  0.01344  0.00896  0.00448   \n",
       "..       ...      ...      ...      ...      ...      ...      ...      ...   \n",
       "770  0.00000  0.00000  0.00000  0.00000  0.00000  0.00000  0.00000  0.00000   \n",
       "771  0.00000  0.00000  0.00000  0.00000  0.00000  0.00000  0.00000  0.00000   \n",
       "772  0.00000  0.00000  0.00000  0.00000  0.00000  0.00000  0.00000  0.00000   \n",
       "773  0.00000  0.00000  0.00000  0.00000  0.00000  0.00000  0.00000  0.00000   \n",
       "774  0.00000  0.00000  0.00000  0.00000  0.00000  0.00000  0.00000  0.00000   \n",
       "\n",
       "         8        9    ...      790      791      792      793      794  \\\n",
       "0    0.02688  0.03136  ...  0.01792  0.02688  0.00896  0.00896  0.00000   \n",
       "1    0.02688  0.03136  ...  0.01792  0.02688  0.00896  0.00896  0.00000   \n",
       "2    0.01792  0.00896  ...  0.00896  0.00896  0.00000  0.00448  0.00448   \n",
       "3    0.01344  0.00000  ...  0.00000  0.00000  0.00000  0.00000  0.00448   \n",
       "4    0.01792  0.00896  ...  0.00448  0.00896  0.00000  0.00448  0.00896   \n",
       "..       ...      ...  ...      ...      ...      ...      ...      ...   \n",
       "770  0.00000  0.00000  ...  0.00000  0.00000  0.38080  0.00000  0.00000   \n",
       "771  0.00000  0.00000  ...  0.00000  0.00000  0.20160  0.00000  0.00000   \n",
       "772  0.00000  0.00000  ...  0.00000  0.00000  0.00000  0.00000  0.00000   \n",
       "773  0.00000  0.00000  ...  0.00000  0.00000  0.00000  0.00000  0.00000   \n",
       "774  0.00000  0.00000  ...  0.00000  0.00000  0.00000  0.00000  0.00000   \n",
       "\n",
       "         795      796      797      798      799  \n",
       "0    0.01344  0.00448  0.00448  0.03136  0.00896  \n",
       "1    0.01344  0.00448  0.00448  0.02688  0.00896  \n",
       "2    0.01792  0.00896  0.01344  0.00896  0.01344  \n",
       "3    0.01344  0.00896  0.01344  0.00448  0.01344  \n",
       "4    0.01792  0.00896  0.01792  0.00896  0.01792  \n",
       "..       ...      ...      ...      ...      ...  \n",
       "770  0.00000  0.00000  0.00000  0.00000  0.00000  \n",
       "771  0.00000  0.00000  0.00000  0.00000  0.00000  \n",
       "772  0.00000  0.00000  0.00000  0.00000  0.00000  \n",
       "773  0.00000  0.00000  0.00000  0.00000  0.00000  \n",
       "774  0.00000  0.00000  0.00000  0.00000  0.00000  \n",
       "\n",
       "[775 rows x 800 columns]"
      ]
     },
     "execution_count": 7,
     "metadata": {},
     "output_type": "execute_result"
    }
   ],
   "source": [
    "df0"
   ]
  },
  {
   "cell_type": "code",
   "execution_count": 8,
   "id": "daa3bd26",
   "metadata": {},
   "outputs": [],
   "source": [
    "dfs = {\"df0\":df0, \"df1\":df1, \"df2\":df2, \"df3\":df3, \"df4\":df4, \"df5\":df5, \"df6\":df6, \"df7\":df7,\n",
    "       \"df16\":df16, \"df24\":df24, \"df27\":df27, \"df35\":df35, \"df37\":df37, \"df267\":df267, \"df357\":df357}"
   ]
  },
  {
   "cell_type": "code",
   "execution_count": 9,
   "id": "ec7ea5b7",
   "metadata": {},
   "outputs": [
    {
     "name": "stdout",
     "output_type": "stream",
     "text": [
      "length of df0: 775\n",
      "length of df1: 931\n",
      "length of df2: 812\n",
      "length of df3: 697\n",
      "length of df4: 803\n",
      "length of df5: 766\n",
      "length of df6: 743\n",
      "length of df7: 748\n",
      "length of df16: 877\n",
      "length of df24: 816\n",
      "length of df27: 774\n",
      "length of df35: 728\n",
      "length of df37: 716\n",
      "length of df267: 778\n",
      "length of df357: 729\n"
     ]
    }
   ],
   "source": [
    "for i in dfs:\n",
    "    print(f\"length of {i}: {len(dfs[i])}\")"
   ]
  },
  {
   "cell_type": "code",
   "execution_count": 10,
   "id": "a8c068f6",
   "metadata": {},
   "outputs": [
    {
     "name": "stdout",
     "output_type": "stream",
     "text": [
      "df0 number of curves: 800\n",
      "df1 number of curves: 200\n",
      "df2 number of curves: 200\n",
      "df3 number of curves: 200\n",
      "df4 number of curves: 200\n",
      "df5 number of curves: 200\n",
      "df6 number of curves: 200\n",
      "df7 number of curves: 200\n",
      "df16 number of curves: 100\n",
      "df24 number of curves: 100\n",
      "df27 number of curves: 100\n",
      "df35 number of curves: 100\n",
      "df37 number of curves: 100\n",
      "df267 number of curves: 100\n",
      "df357 number of curves: 100\n",
      "tot_nr_curves: 2900\n"
     ]
    }
   ],
   "source": [
    "tot_nr_curves = []\n",
    "\n",
    "for i in dfs:\n",
    "    print(f\"{i} number of curves: {len(dfs[i].columns)}\")\n",
    "    tot_nr_curves.append(len(dfs[i].columns))\n",
    "    \n",
    "print(f\"tot_nr_curves: {sum(tot_nr_curves)}\")"
   ]
  },
  {
   "cell_type": "code",
   "execution_count": 11,
   "id": "a9c7d21b",
   "metadata": {},
   "outputs": [
    {
     "data": {
      "text/plain": [
       "[800, 200, 200, 200, 200, 200, 200, 200, 100, 100, 100, 100, 100, 100, 100]"
      ]
     },
     "execution_count": 11,
     "metadata": {},
     "output_type": "execute_result"
    }
   ],
   "source": [
    "tot_nr_curves"
   ]
  },
  {
   "cell_type": "markdown",
   "id": "e5da3d2a",
   "metadata": {},
   "source": [
    "## 1.1 Padding dataframes with zeros"
   ]
  },
  {
   "cell_type": "code",
   "execution_count": 12,
   "id": "ca164e9b",
   "metadata": {},
   "outputs": [],
   "source": [
    "def zero_padding(df, len_curve):\n",
    "    \n",
    "    to_pad = len_curve - len(df)\n",
    "    zeros = np.zeros(to_pad*len(df.columns)).reshape(to_pad, len(df.columns))\n",
    "    df_zeros = pd.DataFrame(zeros)    \n",
    "    df_padded = df.append(df_zeros)\n",
    "    df_padded = df_padded.reset_index(drop=True)\n",
    "    \n",
    "    return df_padded"
   ]
  },
  {
   "cell_type": "code",
   "execution_count": 13,
   "id": "d41bd550",
   "metadata": {},
   "outputs": [],
   "source": [
    "def pad_df(df, len_curve=920):\n",
    "    \n",
    "    if len(df)>len_curve:\n",
    "        print(f\"this dataframe has a length of {len(df)}\")\n",
    "    else:\n",
    "        df_padded = zero_padding(df, len_curve)\n",
    "        print(df_padded.shape)\n",
    "        return df_padded"
   ]
  },
  {
   "cell_type": "code",
   "execution_count": 14,
   "id": "cb83ec8d",
   "metadata": {},
   "outputs": [
    {
     "name": "stdout",
     "output_type": "stream",
     "text": [
      "(920, 800)\n",
      "(920, 200)\n",
      "(920, 200)\n",
      "(920, 200)\n",
      "(920, 200)\n",
      "(920, 200)\n",
      "(920, 200)\n"
     ]
    },
    {
     "data": {
      "text/plain": [
       "(920, 200)"
      ]
     },
     "execution_count": 14,
     "metadata": {},
     "output_type": "execute_result"
    }
   ],
   "source": [
    "df0p = pad_df(df0)\n",
    "df1p = df1[:920]\n",
    "df2p = pad_df(df2)\n",
    "df3p = pad_df(df3)\n",
    "df4p = pad_df(df4)\n",
    "df5p = pad_df(df5)\n",
    "df6p = pad_df(df6)\n",
    "df7p = pad_df(df7)\n",
    "\n",
    "df1p.shape"
   ]
  },
  {
   "cell_type": "code",
   "execution_count": 15,
   "id": "ac3436a1",
   "metadata": {},
   "outputs": [
    {
     "name": "stdout",
     "output_type": "stream",
     "text": [
      "(920, 100)\n",
      "(920, 100)\n",
      "(920, 100)\n",
      "(920, 100)\n",
      "(920, 100)\n",
      "(920, 100)\n",
      "(920, 100)\n"
     ]
    }
   ],
   "source": [
    "df16p = pad_df(df16)\n",
    "df24p = pad_df(df24)\n",
    "df27p = pad_df(df27)\n",
    "df35p = pad_df(df35)\n",
    "df37p = pad_df(df37)\n",
    "df267p = pad_df(df267)\n",
    "df357p = pad_df(df357)"
   ]
  },
  {
   "cell_type": "code",
   "execution_count": 16,
   "id": "2cdbec25",
   "metadata": {},
   "outputs": [
    {
     "data": {
      "image/png": "[encoded data removed]",
      "text/plain": [
       "<Figure size 800x400 with 1 Axes>"
      ]
     },
     "metadata": {},
     "output_type": "display_data"
    }
   ],
   "source": [
    "plt.figure(figsize=(8,4))\n",
    "plt.plot(df0p)\n",
    "plt.grid()\n",
    "plt.show()"
   ]
  },
  {
   "cell_type": "code",
   "execution_count": 17,
   "id": "58e729de",
   "metadata": {},
   "outputs": [
    {
     "data": {
      "text/html": [
       "<div>\n",
       "<style scoped>\n",
       "    .dataframe tbody tr th:only-of-type {\n",
       "        vertical-align: middle;\n",
       "    }\n",
       "\n",
       "    .dataframe tbody tr th {\n",
       "        vertical-align: top;\n",
       "    }\n",
       "\n",
       "    .dataframe thead th {\n",
       "        text-align: right;\n",
       "    }\n",
       "</style>\n",
       "<table border=\"1\" class=\"dataframe\">\n",
       "  <thead>\n",
       "    <tr style=\"text-align: right;\">\n",
       "      <th></th>\n",
       "      <th>0</th>\n",
       "      <th>1</th>\n",
       "      <th>2</th>\n",
       "      <th>3</th>\n",
       "      <th>4</th>\n",
       "      <th>5</th>\n",
       "      <th>6</th>\n",
       "      <th>7</th>\n",
       "      <th>8</th>\n",
       "      <th>9</th>\n",
       "      <th>...</th>\n",
       "      <th>790</th>\n",
       "      <th>791</th>\n",
       "      <th>792</th>\n",
       "      <th>793</th>\n",
       "      <th>794</th>\n",
       "      <th>795</th>\n",
       "      <th>796</th>\n",
       "      <th>797</th>\n",
       "      <th>798</th>\n",
       "      <th>799</th>\n",
       "    </tr>\n",
       "  </thead>\n",
       "  <tbody>\n",
       "    <tr>\n",
       "      <th>0</th>\n",
       "      <td>0.00448</td>\n",
       "      <td>0.00896</td>\n",
       "      <td>0.00448</td>\n",
       "      <td>0.01792</td>\n",
       "      <td>0.01344</td>\n",
       "      <td>0.00896</td>\n",
       "      <td>0.01792</td>\n",
       "      <td>0.02240</td>\n",
       "      <td>0.02688</td>\n",
       "      <td>0.03136</td>\n",
       "      <td>...</td>\n",
       "      <td>0.01792</td>\n",
       "      <td>0.02688</td>\n",
       "      <td>0.00896</td>\n",
       "      <td>0.00896</td>\n",
       "      <td>0.00000</td>\n",
       "      <td>0.01344</td>\n",
       "      <td>0.00448</td>\n",
       "      <td>0.00448</td>\n",
       "      <td>0.03136</td>\n",
       "      <td>0.00896</td>\n",
       "    </tr>\n",
       "    <tr>\n",
       "      <th>1</th>\n",
       "      <td>0.00448</td>\n",
       "      <td>0.00896</td>\n",
       "      <td>0.00000</td>\n",
       "      <td>0.01792</td>\n",
       "      <td>0.01344</td>\n",
       "      <td>0.00896</td>\n",
       "      <td>0.01792</td>\n",
       "      <td>0.02240</td>\n",
       "      <td>0.02688</td>\n",
       "      <td>0.03136</td>\n",
       "      <td>...</td>\n",
       "      <td>0.01792</td>\n",
       "      <td>0.02688</td>\n",
       "      <td>0.00896</td>\n",
       "      <td>0.00896</td>\n",
       "      <td>0.00000</td>\n",
       "      <td>0.01344</td>\n",
       "      <td>0.00448</td>\n",
       "      <td>0.00448</td>\n",
       "      <td>0.02688</td>\n",
       "      <td>0.00896</td>\n",
       "    </tr>\n",
       "    <tr>\n",
       "      <th>2</th>\n",
       "      <td>0.00896</td>\n",
       "      <td>0.00896</td>\n",
       "      <td>0.00000</td>\n",
       "      <td>0.01792</td>\n",
       "      <td>0.00896</td>\n",
       "      <td>0.00896</td>\n",
       "      <td>0.00896</td>\n",
       "      <td>0.00448</td>\n",
       "      <td>0.01792</td>\n",
       "      <td>0.00896</td>\n",
       "      <td>...</td>\n",
       "      <td>0.00896</td>\n",
       "      <td>0.00896</td>\n",
       "      <td>0.00000</td>\n",
       "      <td>0.00448</td>\n",
       "      <td>0.00448</td>\n",
       "      <td>0.01792</td>\n",
       "      <td>0.00896</td>\n",
       "      <td>0.01344</td>\n",
       "      <td>0.00896</td>\n",
       "      <td>0.01344</td>\n",
       "    </tr>\n",
       "    <tr>\n",
       "      <th>3</th>\n",
       "      <td>0.00896</td>\n",
       "      <td>0.01344</td>\n",
       "      <td>0.00000</td>\n",
       "      <td>0.00896</td>\n",
       "      <td>0.00000</td>\n",
       "      <td>0.00896</td>\n",
       "      <td>0.00000</td>\n",
       "      <td>0.00000</td>\n",
       "      <td>0.01344</td>\n",
       "      <td>0.00000</td>\n",
       "      <td>...</td>\n",
       "      <td>0.00000</td>\n",
       "      <td>0.00000</td>\n",
       "      <td>0.00000</td>\n",
       "      <td>0.00000</td>\n",
       "      <td>0.00448</td>\n",
       "      <td>0.01344</td>\n",
       "      <td>0.00896</td>\n",
       "      <td>0.01344</td>\n",
       "      <td>0.00448</td>\n",
       "      <td>0.01344</td>\n",
       "    </tr>\n",
       "    <tr>\n",
       "      <th>4</th>\n",
       "      <td>0.01344</td>\n",
       "      <td>0.01792</td>\n",
       "      <td>0.00000</td>\n",
       "      <td>0.01792</td>\n",
       "      <td>0.00896</td>\n",
       "      <td>0.01344</td>\n",
       "      <td>0.00896</td>\n",
       "      <td>0.00448</td>\n",
       "      <td>0.01792</td>\n",
       "      <td>0.00896</td>\n",
       "      <td>...</td>\n",
       "      <td>0.00448</td>\n",
       "      <td>0.00896</td>\n",
       "      <td>0.00000</td>\n",
       "      <td>0.00448</td>\n",
       "      <td>0.00896</td>\n",
       "      <td>0.01792</td>\n",
       "      <td>0.00896</td>\n",
       "      <td>0.01792</td>\n",
       "      <td>0.00896</td>\n",
       "      <td>0.01792</td>\n",
       "    </tr>\n",
       "    <tr>\n",
       "      <th>...</th>\n",
       "      <td>...</td>\n",
       "      <td>...</td>\n",
       "      <td>...</td>\n",
       "      <td>...</td>\n",
       "      <td>...</td>\n",
       "      <td>...</td>\n",
       "      <td>...</td>\n",
       "      <td>...</td>\n",
       "      <td>...</td>\n",
       "      <td>...</td>\n",
       "      <td>...</td>\n",
       "      <td>...</td>\n",
       "      <td>...</td>\n",
       "      <td>...</td>\n",
       "      <td>...</td>\n",
       "      <td>...</td>\n",
       "      <td>...</td>\n",
       "      <td>...</td>\n",
       "      <td>...</td>\n",
       "      <td>...</td>\n",
       "      <td>...</td>\n",
       "    </tr>\n",
       "    <tr>\n",
       "      <th>915</th>\n",
       "      <td>0.00000</td>\n",
       "      <td>0.00000</td>\n",
       "      <td>0.00000</td>\n",
       "      <td>0.00000</td>\n",
       "      <td>0.00000</td>\n",
       "      <td>0.00000</td>\n",
       "      <td>0.00000</td>\n",
       "      <td>0.00000</td>\n",
       "      <td>0.00000</td>\n",
       "      <td>0.00000</td>\n",
       "      <td>...</td>\n",
       "      <td>0.00000</td>\n",
       "      <td>0.00000</td>\n",
       "      <td>0.00000</td>\n",
       "      <td>0.00000</td>\n",
       "      <td>0.00000</td>\n",
       "      <td>0.00000</td>\n",
       "      <td>0.00000</td>\n",
       "      <td>0.00000</td>\n",
       "      <td>0.00000</td>\n",
       "      <td>0.00000</td>\n",
       "    </tr>\n",
       "    <tr>\n",
       "      <th>916</th>\n",
       "      <td>0.00000</td>\n",
       "      <td>0.00000</td>\n",
       "      <td>0.00000</td>\n",
       "      <td>0.00000</td>\n",
       "      <td>0.00000</td>\n",
       "      <td>0.00000</td>\n",
       "      <td>0.00000</td>\n",
       "      <td>0.00000</td>\n",
       "      <td>0.00000</td>\n",
       "      <td>0.00000</td>\n",
       "      <td>...</td>\n",
       "      <td>0.00000</td>\n",
       "      <td>0.00000</td>\n",
       "      <td>0.00000</td>\n",
       "      <td>0.00000</td>\n",
       "      <td>0.00000</td>\n",
       "      <td>0.00000</td>\n",
       "      <td>0.00000</td>\n",
       "      <td>0.00000</td>\n",
       "      <td>0.00000</td>\n",
       "      <td>0.00000</td>\n",
       "    </tr>\n",
       "    <tr>\n",
       "      <th>917</th>\n",
       "      <td>0.00000</td>\n",
       "      <td>0.00000</td>\n",
       "      <td>0.00000</td>\n",
       "      <td>0.00000</td>\n",
       "      <td>0.00000</td>\n",
       "      <td>0.00000</td>\n",
       "      <td>0.00000</td>\n",
       "      <td>0.00000</td>\n",
       "      <td>0.00000</td>\n",
       "      <td>0.00000</td>\n",
       "      <td>...</td>\n",
       "      <td>0.00000</td>\n",
       "      <td>0.00000</td>\n",
       "      <td>0.00000</td>\n",
       "      <td>0.00000</td>\n",
       "      <td>0.00000</td>\n",
       "      <td>0.00000</td>\n",
       "      <td>0.00000</td>\n",
       "      <td>0.00000</td>\n",
       "      <td>0.00000</td>\n",
       "      <td>0.00000</td>\n",
       "    </tr>\n",
       "    <tr>\n",
       "      <th>918</th>\n",
       "      <td>0.00000</td>\n",
       "      <td>0.00000</td>\n",
       "      <td>0.00000</td>\n",
       "      <td>0.00000</td>\n",
       "      <td>0.00000</td>\n",
       "      <td>0.00000</td>\n",
       "      <td>0.00000</td>\n",
       "      <td>0.00000</td>\n",
       "      <td>0.00000</td>\n",
       "      <td>0.00000</td>\n",
       "      <td>...</td>\n",
       "      <td>0.00000</td>\n",
       "      <td>0.00000</td>\n",
       "      <td>0.00000</td>\n",
       "      <td>0.00000</td>\n",
       "      <td>0.00000</td>\n",
       "      <td>0.00000</td>\n",
       "      <td>0.00000</td>\n",
       "      <td>0.00000</td>\n",
       "      <td>0.00000</td>\n",
       "      <td>0.00000</td>\n",
       "    </tr>\n",
       "    <tr>\n",
       "      <th>919</th>\n",
       "      <td>0.00000</td>\n",
       "      <td>0.00000</td>\n",
       "      <td>0.00000</td>\n",
       "      <td>0.00000</td>\n",
       "      <td>0.00000</td>\n",
       "      <td>0.00000</td>\n",
       "      <td>0.00000</td>\n",
       "      <td>0.00000</td>\n",
       "      <td>0.00000</td>\n",
       "      <td>0.00000</td>\n",
       "      <td>...</td>\n",
       "      <td>0.00000</td>\n",
       "      <td>0.00000</td>\n",
       "      <td>0.00000</td>\n",
       "      <td>0.00000</td>\n",
       "      <td>0.00000</td>\n",
       "      <td>0.00000</td>\n",
       "      <td>0.00000</td>\n",
       "      <td>0.00000</td>\n",
       "      <td>0.00000</td>\n",
       "      <td>0.00000</td>\n",
       "    </tr>\n",
       "  </tbody>\n",
       "</table>\n",
       "<p>920 rows × 800 columns</p>\n",
       "</div>"
      ],
      "text/plain": [
       "         0        1        2        3        4        5        6        7    \\\n",
       "0    0.00448  0.00896  0.00448  0.01792  0.01344  0.00896  0.01792  0.02240   \n",
       "1    0.00448  0.00896  0.00000  0.01792  0.01344  0.00896  0.01792  0.02240   \n",
       "2    0.00896  0.00896  0.00000  0.01792  0.00896  0.00896  0.00896  0.00448   \n",
       "3    0.00896  0.01344  0.00000  0.00896  0.00000  0.00896  0.00000  0.00000   \n",
       "4    0.01344  0.01792  0.00000  0.01792  0.00896  0.01344  0.00896  0.00448   \n",
       "..       ...      ...      ...      ...      ...      ...      ...      ...   \n",
       "915  0.00000  0.00000  0.00000  0.00000  0.00000  0.00000  0.00000  0.00000   \n",
       "916  0.00000  0.00000  0.00000  0.00000  0.00000  0.00000  0.00000  0.00000   \n",
       "917  0.00000  0.00000  0.00000  0.00000  0.00000  0.00000  0.00000  0.00000   \n",
       "918  0.00000  0.00000  0.00000  0.00000  0.00000  0.00000  0.00000  0.00000   \n",
       "919  0.00000  0.00000  0.00000  0.00000  0.00000  0.00000  0.00000  0.00000   \n",
       "\n",
       "         8        9    ...      790      791      792      793      794  \\\n",
       "0    0.02688  0.03136  ...  0.01792  0.02688  0.00896  0.00896  0.00000   \n",
       "1    0.02688  0.03136  ...  0.01792  0.02688  0.00896  0.00896  0.00000   \n",
       "2    0.01792  0.00896  ...  0.00896  0.00896  0.00000  0.00448  0.00448   \n",
       "3    0.01344  0.00000  ...  0.00000  0.00000  0.00000  0.00000  0.00448   \n",
       "4    0.01792  0.00896  ...  0.00448  0.00896  0.00000  0.00448  0.00896   \n",
       "..       ...      ...  ...      ...      ...      ...      ...      ...   \n",
       "915  0.00000  0.00000  ...  0.00000  0.00000  0.00000  0.00000  0.00000   \n",
       "916  0.00000  0.00000  ...  0.00000  0.00000  0.00000  0.00000  0.00000   \n",
       "917  0.00000  0.00000  ...  0.00000  0.00000  0.00000  0.00000  0.00000   \n",
       "918  0.00000  0.00000  ...  0.00000  0.00000  0.00000  0.00000  0.00000   \n",
       "919  0.00000  0.00000  ...  0.00000  0.00000  0.00000  0.00000  0.00000   \n",
       "\n",
       "         795      796      797      798      799  \n",
       "0    0.01344  0.00448  0.00448  0.03136  0.00896  \n",
       "1    0.01344  0.00448  0.00448  0.02688  0.00896  \n",
       "2    0.01792  0.00896  0.01344  0.00896  0.01344  \n",
       "3    0.01344  0.00896  0.01344  0.00448  0.01344  \n",
       "4    0.01792  0.00896  0.01792  0.00896  0.01792  \n",
       "..       ...      ...      ...      ...      ...  \n",
       "915  0.00000  0.00000  0.00000  0.00000  0.00000  \n",
       "916  0.00000  0.00000  0.00000  0.00000  0.00000  \n",
       "917  0.00000  0.00000  0.00000  0.00000  0.00000  \n",
       "918  0.00000  0.00000  0.00000  0.00000  0.00000  \n",
       "919  0.00000  0.00000  0.00000  0.00000  0.00000  \n",
       "\n",
       "[920 rows x 800 columns]"
      ]
     },
     "execution_count": 17,
     "metadata": {},
     "output_type": "execute_result"
    }
   ],
   "source": [
    "df0p"
   ]
  },
  {
   "cell_type": "markdown",
   "id": "ac716c1b",
   "metadata": {},
   "source": [
    "## 1.2 Shuffle and split the data -> test size: 50 curves each class"
   ]
  },
  {
   "cell_type": "code",
   "execution_count": 18,
   "id": "e73080a9",
   "metadata": {},
   "outputs": [],
   "source": [
    "def split_df(df):\n",
    "    \n",
    "    feature = df.values.transpose()\n",
    "    x_train, x_test = train_test_split(feature, random_state=9, test_size=50, shuffle=True)\n",
    "    \n",
    "    return x_train, x_test"
   ]
  },
  {
   "cell_type": "code",
   "execution_count": 19,
   "id": "a5fc3dc4",
   "metadata": {},
   "outputs": [],
   "source": [
    "cl0train, cl0test = split_df(df0p)\n",
    "cl1train, cl1test = split_df(df1p)\n",
    "cl2train, cl2test = split_df(df2p)\n",
    "cl3train, cl3test = split_df(df3p)\n",
    "cl4train, cl4test = split_df(df4p)\n",
    "cl5train, cl5test = split_df(df5p)\n",
    "cl6train, cl6test = split_df(df6p)\n",
    "cl7train, cl7test = split_df(df7p)"
   ]
  },
  {
   "cell_type": "code",
   "execution_count": 20,
   "id": "3ca4ab9b",
   "metadata": {},
   "outputs": [],
   "source": [
    "cl16train, cl16test = split_df(df16p)\n",
    "cl24train, cl24test = split_df(df24p)\n",
    "cl27train, cl27test = split_df(df27p)\n",
    "cl35train, cl35test = split_df(df35p)\n",
    "cl37train, cl37test = split_df(df37p)\n",
    "cl267train, cl267test = split_df(df267p)\n",
    "cl357train, cl357test = split_df(df357p)"
   ]
  },
  {
   "cell_type": "code",
   "execution_count": 21,
   "id": "2e1bdbfc",
   "metadata": {},
   "outputs": [],
   "source": [
    "train_list = [cl0train, cl1train, cl2train, cl3train, cl4train, cl5train, cl6train, cl7train, \n",
    "              cl16train, cl24train, cl27train, cl35train, cl37train, cl267train, cl357train]"
   ]
  },
  {
   "cell_type": "code",
   "execution_count": 27,
   "id": "bd3018b0",
   "metadata": {},
   "outputs": [
    {
     "name": "stdout",
     "output_type": "stream",
     "text": [
      "[750, 150, 150, 150, 150, 150, 150, 150, 50, 50, 50, 50, 50, 50, 50]\n"
     ]
    }
   ],
   "source": [
    "train_nr_curves = []\n",
    "\n",
    "for i in train_list:\n",
    "    train_nr_curves.append(len(i))\n",
    "    \n",
    "print(train_nr_curves)"
   ]
  },
  {
   "cell_type": "code",
   "execution_count": 29,
   "id": "193f7bfa",
   "metadata": {},
   "outputs": [
    {
     "data": {
      "text/plain": [
       "array([ 750,  900, 1050, 1200, 1350, 1500, 1650, 1800, 1850, 1900, 1950,\n",
       "       2000, 2050, 2100, 2150], dtype=int32)"
      ]
     },
     "execution_count": 29,
     "metadata": {},
     "output_type": "execute_result"
    }
   ],
   "source": [
    "np.save(\"feature_label/occ_autoencoder_train_sector_v2.4.npy\", np.cumsum(train_nr_curves))\n",
    "np.cumsum(train_nr_curves)"
   ]
  },
  {
   "cell_type": "code",
   "execution_count": 31,
   "id": "790c20db",
   "metadata": {},
   "outputs": [
    {
     "data": {
      "text/plain": [
       "((750, 920), (150, 920), (50, 920))"
      ]
     },
     "execution_count": 31,
     "metadata": {},
     "output_type": "execute_result"
    }
   ],
   "source": [
    "cl0train.shape, cl1train.shape, cl357train.shape"
   ]
  },
  {
   "cell_type": "code",
   "execution_count": 26,
   "id": "98d8fa1a",
   "metadata": {},
   "outputs": [
    {
     "data": {
      "image/png": "[encoded data removed]",
      "text/plain": [
       "<Figure size 700x400 with 1 Axes>"
      ]
     },
     "metadata": {},
     "output_type": "display_data"
    }
   ],
   "source": [
    "plt.figure(figsize=(7,4))\n",
    "plt.plot(cl3train.transpose())\n",
    "plt.show()"
   ]
  },
  {
   "cell_type": "markdown",
   "id": "5780aed6",
   "metadata": {},
   "source": [
    "# 2. Preprocess training data"
   ]
  },
  {
   "cell_type": "markdown",
   "id": "380c5362",
   "metadata": {},
   "source": [
    "## 2.1 Build feature and label for training and save as .npy"
   ]
  },
  {
   "cell_type": "code",
   "execution_count": 32,
   "id": "dfef866b",
   "metadata": {},
   "outputs": [
    {
     "data": {
      "text/plain": [
       "(2150, 920)"
      ]
     },
     "execution_count": 32,
     "metadata": {},
     "output_type": "execute_result"
    }
   ],
   "source": [
    "feature_train = np.concatenate((cl0train, cl1train, cl2train, cl3train, cl4train,\n",
    "                                cl5train, cl6train, cl7train, \n",
    "                                cl16train, cl24train, cl27train, cl35train, cl37train,\n",
    "                                cl267train, cl357train), axis=0)\n",
    "feature_train.shape"
   ]
  },
  {
   "cell_type": "code",
   "execution_count": 33,
   "id": "a930701e",
   "metadata": {},
   "outputs": [],
   "source": [
    "def build_multi_label(shape_list, p0=None, p1=None, p2=None):\n",
    "    \n",
    "    label = np.zeros(shape_list[0]*shape_list[1]).reshape(shape_list[0], shape_list[1])\n",
    "    \n",
    "    if p0 is not None:\n",
    "        label[:, p0] = 1\n",
    "    if p1 is not None:\n",
    "        label[:, p1] = 1\n",
    "    if p2 is not None:\n",
    "        label[:, p2] = 1\n",
    "    \n",
    "    return label"
   ]
  },
  {
   "cell_type": "code",
   "execution_count": 34,
   "id": "c8995013",
   "metadata": {},
   "outputs": [],
   "source": [
    "class_amount =8\n",
    "l0train = build_multi_label(shape_list=[cl0train.shape[0],class_amount], p0=0)\n",
    "l1train = build_multi_label(shape_list=[cl1train.shape[0],class_amount], p0=1)\n",
    "l2train = build_multi_label(shape_list=[cl2train.shape[0],class_amount], p0=2)\n",
    "l3train = build_multi_label(shape_list=[cl3train.shape[0],class_amount], p0=3)\n",
    "l4train = build_multi_label(shape_list=[cl4train.shape[0],class_amount], p0=4)\n",
    "l5train = build_multi_label(shape_list=[cl5train.shape[0],class_amount], p0=5)\n",
    "l6train = build_multi_label(shape_list=[cl6train.shape[0],class_amount], p0=6)\n",
    "l7train = build_multi_label(shape_list=[cl7train.shape[0],class_amount], p0=7)\n",
    "\n",
    "l16train = build_multi_label(shape_list=[cl16train.shape[0],class_amount], p0=1, p1=6)\n",
    "l24train = build_multi_label(shape_list=[cl24train.shape[0],class_amount], p0=2, p1=4)\n",
    "l27train = build_multi_label(shape_list=[cl27train.shape[0],class_amount], p0=2, p1=7)\n",
    "l35train = build_multi_label(shape_list=[cl35train.shape[0],class_amount], p0=3, p1=5)\n",
    "l37train = build_multi_label(shape_list=[cl37train.shape[0],class_amount], p0=3, p1=7)\n",
    "l267train = build_multi_label(shape_list=[cl267train.shape[0],class_amount], p0=2, p1=6, p2=7)\n",
    "l357train = build_multi_label(shape_list=[cl357train.shape[0],class_amount], p0=3, p1=5, p2=7)"
   ]
  },
  {
   "cell_type": "code",
   "execution_count": 35,
   "id": "1bd4bc81",
   "metadata": {},
   "outputs": [
    {
     "data": {
      "text/plain": [
       "array([0., 0., 1., 0., 0., 0., 1., 1.])"
      ]
     },
     "execution_count": 35,
     "metadata": {},
     "output_type": "execute_result"
    }
   ],
   "source": [
    "l267train[0]"
   ]
  },
  {
   "cell_type": "code",
   "execution_count": 36,
   "id": "b4fc1af0",
   "metadata": {},
   "outputs": [
    {
     "data": {
      "text/plain": [
       "(2150, 8)"
      ]
     },
     "execution_count": 36,
     "metadata": {},
     "output_type": "execute_result"
    }
   ],
   "source": [
    "label_train = np.concatenate((l0train, l1train, l2train, l3train, l4train, l5train, l6train, l7train,\n",
    "                              l16train, l24train, l27train, l35train, l37train,\n",
    "                              l267train, l357train), axis=0)\n",
    "label_train.shape"
   ]
  },
  {
   "cell_type": "code",
   "execution_count": 37,
   "id": "98b68650",
   "metadata": {},
   "outputs": [],
   "source": [
    "np.save(\"feature_label/occ_feature_train_v2.4.npy\", feature_train)"
   ]
  },
  {
   "cell_type": "code",
   "execution_count": 38,
   "id": "32347b3c",
   "metadata": {},
   "outputs": [],
   "source": [
    "np.save(\"feature_label/occ_feature_test_v2.4.npy\", label_train)"
   ]
  },
  {
   "cell_type": "code",
   "execution_count": null,
   "id": "0c9c56f9",
   "metadata": {},
   "outputs": [],
   "source": []
  },
  {
   "cell_type": "code",
   "execution_count": null,
   "id": "236d5605",
   "metadata": {},
   "outputs": [],
   "source": []
  },
  {
   "cell_type": "markdown",
   "id": "9c117b90",
   "metadata": {},
   "source": [
    "# 3. Preprocess test data"
   ]
  },
  {
   "cell_type": "markdown",
   "id": "d19d6ea2",
   "metadata": {},
   "source": [
    "## 3.1 Build feature and label for test and save as .npy"
   ]
  },
  {
   "cell_type": "code",
   "execution_count": 39,
   "id": "4446901c",
   "metadata": {},
   "outputs": [
    {
     "data": {
      "text/plain": [
       "(750, 920)"
      ]
     },
     "execution_count": 39,
     "metadata": {},
     "output_type": "execute_result"
    }
   ],
   "source": [
    "feature_test = np.concatenate((cl0test, cl1test, cl2test, cl3test, cl4test,\n",
    "                               cl5test, cl6test, cl7test, \n",
    "                               cl16test, cl24test, cl27test, cl35test, cl37test,\n",
    "                               cl267test, cl357test), axis=0)\n",
    "feature_test.shape"
   ]
  },
  {
   "cell_type": "code",
   "execution_count": 40,
   "id": "71bf001d",
   "metadata": {},
   "outputs": [],
   "source": [
    "l0test = build_multi_label(shape_list=[50,8], p0=0)\n",
    "l1test = build_multi_label(shape_list=[50,8], p0=1)\n",
    "l2test = build_multi_label(shape_list=[50,8], p0=2)\n",
    "l3test = build_multi_label(shape_list=[50,8], p0=3)\n",
    "l4test = build_multi_label(shape_list=[50,8], p0=4)\n",
    "l5test = build_multi_label(shape_list=[50,8], p0=5)\n",
    "l6test = build_multi_label(shape_list=[50,8], p0=6)\n",
    "l7test = build_multi_label(shape_list=[50,8], p0=7)\n",
    "\n",
    "l16test = build_multi_label(shape_list=[50,8], p0=1, p1=6)\n",
    "l24test = build_multi_label(shape_list=[50,8], p0=2, p1=4)\n",
    "l27test = build_multi_label(shape_list=[50,8], p0=2, p1=7)\n",
    "l35test = build_multi_label(shape_list=[50,8], p0=3, p1=5)\n",
    "l37test = build_multi_label(shape_list=[50,8], p0=3, p1=7)\n",
    "l267test = build_multi_label(shape_list=[50,8], p0=2, p1=6, p2=7)\n",
    "l357test = build_multi_label(shape_list=[50,8], p0=3, p1=5, p2=7)"
   ]
  },
  {
   "cell_type": "code",
   "execution_count": 41,
   "id": "71f89a12",
   "metadata": {},
   "outputs": [
    {
     "data": {
      "text/plain": [
       "(750, 8)"
      ]
     },
     "execution_count": 41,
     "metadata": {},
     "output_type": "execute_result"
    }
   ],
   "source": [
    "label_test = np.concatenate((l0test, l1test, l2test, l3test, l4test, l5test, l6test, l7test,\n",
    "                             l16test, l24test, l27test, l35test, l37test,\n",
    "                             l267test, l357test), axis=0)\n",
    "label_test.shape"
   ]
  },
  {
   "cell_type": "code",
   "execution_count": 42,
   "id": "f3c0ef9f",
   "metadata": {},
   "outputs": [],
   "source": [
    "np.save(\"feature_label/occ_label_train_v2.4.npy\", feature_test)"
   ]
  },
  {
   "cell_type": "code",
   "execution_count": 43,
   "id": "99eaaef1",
   "metadata": {},
   "outputs": [],
   "source": [
    "np.save(\"feature_label/occ_label_test_v2.4.npy\", label_test)"
   ]
  },
  {
   "cell_type": "code",
   "execution_count": null,
   "id": "237ff53a",
   "metadata": {},
   "outputs": [],
   "source": []
  },
  {
   "cell_type": "code",
   "execution_count": null,
   "id": "b547ca36",
   "metadata": {},
   "outputs": [],
   "source": []
  },
  {
   "cell_type": "code",
   "execution_count": null,
   "id": "33f9dd20",
   "metadata": {},
   "outputs": [],
   "source": []
  },
  {
   "cell_type": "code",
   "execution_count": null,
   "id": "b4d1302e",
   "metadata": {},
   "outputs": [],
   "source": []
  },
  {
   "cell_type": "code",
   "execution_count": null,
   "id": "9da4b785",
   "metadata": {},
   "outputs": [],
   "source": []
  },
  {
   "cell_type": "code",
   "execution_count": null,
   "id": "001cf14f",
   "metadata": {},
   "outputs": [],
   "source": []
  }
 ],
 "metadata": {
  "kernelspec": {
   "display_name": "Python 3 (ipykernel)",
   "language": "python",
   "name": "python3"
  },
  "language_info": {
   "codemirror_mode": {
    "name": "ipython",
    "version": 3
   },
   "file_extension": ".py",
   "mimetype": "text/x-python",
   "name": "python",
   "nbconvert_exporter": "python",
   "pygments_lexer": "ipython3",
   "version": "3.10.6"
  }
 },
 "nbformat": 4,
 "nbformat_minor": 5
}
