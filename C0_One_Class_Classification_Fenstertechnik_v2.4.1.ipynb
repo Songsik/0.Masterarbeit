{
 "cells": [
  {
   "cell_type": "markdown",
   "id": "b7a22086",
   "metadata": {},
   "source": [
    "# Overview of this jupyter notebook\n",
    "\n",
    "1. Load the data\n",
    "2. Classification with window technique\n",
    "3. Evaluating test data with optimized windows\n",
    "4. Saving results"
   ]
  },
  {
   "cell_type": "code",
   "execution_count": 1,
   "id": "12f23059",
   "metadata": {},
   "outputs": [],
   "source": [
    "import pandas as pd\n",
    "import numpy as np\n",
    "import plotly.graph_objects as go\n",
    "import plotly.express as px\n",
    "import matplotlib.pyplot as plt\n",
    "import seaborn as sns\n",
    "%matplotlib inline\n",
    "from sklearn.preprocessing import MinMaxScaler\n",
    "from sklearn.metrics import confusion_matrix, ConfusionMatrixDisplay, classification_report\n",
    "from sklearn.metrics import accuracy_score, recall_score, precision_score, f1_score\n",
    "from sklearn.model_selection import train_test_split, cross_val_score, GridSearchCV, KFold, cross_validate\n",
    "from sklearn.model_selection import cross_val_predict\n",
    "import pickle\n",
    "import json\n",
    "import random"
   ]
  },
  {
   "cell_type": "code",
   "execution_count": 2,
   "id": "3fd95cb8",
   "metadata": {},
   "outputs": [],
   "source": [
    "import tensorflow as tf\n",
    "from tensorflow import keras\n",
    "import keras_tuner as kt\n",
    "from tensorflow.keras.wrappers.scikit_learn import KerasClassifier\n",
    "from tensorflow.keras.utils import to_categorical, plot_model\n",
    "from tensorflow.keras.models import Sequential, clone_model\n",
    "from tensorflow.keras.layers import Dense, Conv1D, Flatten, MaxPooling1D, Dropout, Input, BatchNormalization\n",
    "from tensorflow.keras.callbacks import EarlyStopping\n",
    "from tqdm.notebook import tqdm_notebook as tq\n",
    "from warnings import filterwarnings\n",
    "filterwarnings('ignore')"
   ]
  },
  {
   "cell_type": "code",
   "execution_count": 6,
   "id": "b54e015d",
   "metadata": {},
   "outputs": [
    {
     "name": "stdout",
     "output_type": "stream",
     "text": [
      "<module 'library.etl_helper' from 'C:\\\\Users\\\\songs\\\\OneDrive\\\\Desktop\\\\0. MA_FAPS\\\\04_Code\\\\library\\\\etl_helper.py'>\n",
      "<module 'library.faps_color' from 'C:\\\\Users\\\\songs\\\\OneDrive\\\\Desktop\\\\0. MA_FAPS\\\\04_Code\\\\library\\\\faps_color.py'>\n",
      "<module 'library.classification_helper' from 'C:\\\\Users\\\\songs\\\\OneDrive\\\\Desktop\\\\0. MA_FAPS\\\\04_Code\\\\library\\\\classification_helper.py'>\n"
     ]
    }
   ],
   "source": [
    "import os\n",
    "import importlib\n",
    "from library import etl_helper as etl            # this module contains functions that load, visualize and save the data\n",
    "from library import faps_color as fapsc        # this module contains the color combination of FAPS Institute\n",
    "from library import classification_helper as ch  # this module contains helper functions for the classification task\n",
    "print(importlib.reload(etl))\n",
    "print(importlib.reload(fapsc))\n",
    "print(importlib.reload(ch))"
   ]
  },
  {
   "cell_type": "code",
   "execution_count": 7,
   "id": "06674ea6",
   "metadata": {},
   "outputs": [
    {
     "name": "stdout",
     "output_type": "stream",
     "text": [
      "TensorFlow version:  2.8.0\n",
      "Num GPUs Available:  1\n",
      "Name:  /device:GPU:0\n"
     ]
    }
   ],
   "source": [
    "# GPU check\n",
    "\n",
    "if len(tf.config.list_physical_devices('GPU')) > 0:\n",
    "    print(\"TensorFlow version: \", tf.__version__)\n",
    "    print(\"Num GPUs Available: \", len(tf.config.list_physical_devices('GPU')))\n",
    "    print(\"Name: \", tf.test.gpu_device_name())\n",
    "else:\n",
    "    print(\"TensorFlow version: \", tf.__version__)\n",
    "    print(\"GPU is not available\")"
   ]
  },
  {
   "cell_type": "code",
   "execution_count": 8,
   "id": "92c7b5a2",
   "metadata": {},
   "outputs": [
    {
     "name": "stdout",
     "output_type": "stream",
     "text": [
      "Python 3.10.6\n"
     ]
    }
   ],
   "source": [
    "!python -V"
   ]
  },
  {
   "cell_type": "markdown",
   "id": "c7002fcb",
   "metadata": {},
   "source": [
    "# 1. Load and shuffle the data"
   ]
  },
  {
   "cell_type": "code",
   "execution_count": 9,
   "id": "3829402c",
   "metadata": {},
   "outputs": [],
   "source": [
    "classes = ['0_in_ordnung',\n",
    "           '1_kleine_durchgangsbohrung',\n",
    "           '2_versetzte_fuegepartner',\n",
    "           '3_unebene_fuegeflaeche',\n",
    "           '4_span_im_gewinde',\n",
    "           '5_verschmutzte_schraube',\n",
    "           '6_fremdkoerper_am_gewindeende',\n",
    "           '7_beschaedigte_schraube']"
   ]
  },
  {
   "cell_type": "code",
   "execution_count": 10,
   "id": "d32614b4",
   "metadata": {
    "scrolled": true
   },
   "outputs": [
    {
     "data": {
      "text/plain": [
       "(2150, 920)"
      ]
     },
     "execution_count": 10,
     "metadata": {},
     "output_type": "execute_result"
    }
   ],
   "source": [
    "feature_train = np.load(\"feature_label/occ_feature_train_v2.4.npy\")\n",
    "feature_train.shape"
   ]
  },
  {
   "cell_type": "code",
   "execution_count": 11,
   "id": "f6c0b129",
   "metadata": {},
   "outputs": [
    {
     "data": {
      "text/plain": [
       "(750, 920)"
      ]
     },
     "execution_count": 11,
     "metadata": {},
     "output_type": "execute_result"
    }
   ],
   "source": [
    "feature_test = np.load(\"feature_label/occ_feature_test_v2.4.npy\")\n",
    "feature_test.shape"
   ]
  },
  {
   "cell_type": "code",
   "execution_count": 12,
   "id": "2146c85e",
   "metadata": {},
   "outputs": [
    {
     "data": {
      "text/plain": [
       "(2150, 8)"
      ]
     },
     "execution_count": 12,
     "metadata": {},
     "output_type": "execute_result"
    }
   ],
   "source": [
    "label_train = np.load(\"feature_label/occ_label_train_v2.4.npy\")\n",
    "label_train.shape"
   ]
  },
  {
   "cell_type": "code",
   "execution_count": 14,
   "id": "07bf6eaa",
   "metadata": {},
   "outputs": [
    {
     "data": {
      "text/plain": [
       "(750, 8)"
      ]
     },
     "execution_count": 14,
     "metadata": {},
     "output_type": "execute_result"
    }
   ],
   "source": [
    "label_test = np.load(\"feature_label/occ_label_test_v2.4.npy\")\n",
    "label_test.shape"
   ]
  },
  {
   "cell_type": "code",
   "execution_count": 16,
   "id": "54f0d6e5",
   "metadata": {},
   "outputs": [
    {
     "data": {
      "text/plain": [
       "(700, 920)"
      ]
     },
     "execution_count": 16,
     "metadata": {},
     "output_type": "execute_result"
    }
   ],
   "source": [
    "# using only curves from class 0 for x_train\n",
    "# x_test contains 50 curves from each 15 classes\n",
    "\n",
    "x_train = feature_train[:700]\n",
    "x_test = feature_test\n",
    "\n",
    "x_train.shape"
   ]
  },
  {
   "cell_type": "code",
   "execution_count": 17,
   "id": "b00ababf",
   "metadata": {},
   "outputs": [
    {
     "data": {
      "text/plain": [
       "((2150,), 50)"
      ]
     },
     "execution_count": 17,
     "metadata": {},
     "output_type": "execute_result"
    }
   ],
   "source": [
    "y_train = (np.argmax(label_train, axis=1)>0).astype(int)\n",
    "y_test = (np.argmax(label_test, axis=1)>0).astype(int)\n",
    "\n",
    "y_train.shape, (y_test==0).sum()"
   ]
  },
  {
   "cell_type": "code",
   "execution_count": 18,
   "id": "dafac490",
   "metadata": {},
   "outputs": [
    {
     "data": {
      "text/plain": [
       "array([0, 0, 0, 0, 0, 0, 0, 0, 0, 0, 0, 0, 0, 0, 0, 0, 0, 0, 0, 0, 0, 0,\n",
       "       0, 0, 0, 0, 0, 0, 0, 0, 0, 0, 0, 0, 0, 0, 0, 0, 0, 0, 0, 0, 0, 0,\n",
       "       0, 0, 0, 0, 0, 0, 1, 1, 1, 1, 1, 1, 1, 1, 1, 1, 1, 1, 1, 1, 1, 1,\n",
       "       1, 1, 1, 1, 1, 1, 1, 1, 1, 1, 1, 1, 1, 1, 1, 1, 1, 1, 1, 1, 1, 1,\n",
       "       1, 1, 1, 1, 1, 1, 1, 1, 1, 1, 1, 1, 1, 1, 1, 1, 1, 1, 1, 1, 1, 1,\n",
       "       1, 1, 1, 1, 1, 1, 1, 1, 1, 1, 1, 1, 1, 1, 1, 1, 1, 1, 1, 1, 1, 1,\n",
       "       1, 1, 1, 1, 1, 1, 1, 1, 1, 1, 1, 1, 1, 1, 1, 1, 1, 1, 1, 1, 1, 1,\n",
       "       1, 1, 1, 1, 1, 1, 1, 1, 1, 1, 1, 1, 1, 1, 1, 1, 1, 1, 1, 1, 1, 1,\n",
       "       1, 1, 1, 1, 1, 1, 1, 1, 1, 1, 1, 1, 1, 1, 1, 1, 1, 1, 1, 1, 1, 1,\n",
       "       1, 1, 1, 1, 1, 1, 1, 1, 1, 1, 1, 1, 1, 1, 1, 1, 1, 1, 1, 1, 1, 1,\n",
       "       1, 1, 1, 1, 1, 1, 1, 1, 1, 1, 1, 1, 1, 1, 1, 1, 1, 1, 1, 1, 1, 1,\n",
       "       1, 1, 1, 1, 1, 1, 1, 1, 1, 1, 1, 1, 1, 1, 1, 1, 1, 1, 1, 1, 1, 1,\n",
       "       1, 1, 1, 1, 1, 1, 1, 1, 1, 1, 1, 1, 1, 1, 1, 1, 1, 1, 1, 1, 1, 1,\n",
       "       1, 1, 1, 1, 1, 1, 1, 1, 1, 1, 1, 1, 1, 1, 1, 1, 1, 1, 1, 1, 1, 1,\n",
       "       1, 1, 1, 1, 1, 1, 1, 1, 1, 1, 1, 1, 1, 1, 1, 1, 1, 1, 1, 1, 1, 1,\n",
       "       1, 1, 1, 1, 1, 1, 1, 1, 1, 1, 1, 1, 1, 1, 1, 1, 1, 1, 1, 1, 1, 1,\n",
       "       1, 1, 1, 1, 1, 1, 1, 1, 1, 1, 1, 1, 1, 1, 1, 1, 1, 1, 1, 1, 1, 1,\n",
       "       1, 1, 1, 1, 1, 1, 1, 1, 1, 1, 1, 1, 1, 1, 1, 1, 1, 1, 1, 1, 1, 1,\n",
       "       1, 1, 1, 1, 1, 1, 1, 1, 1, 1, 1, 1, 1, 1, 1, 1, 1, 1, 1, 1, 1, 1,\n",
       "       1, 1, 1, 1, 1, 1, 1, 1, 1, 1, 1, 1, 1, 1, 1, 1, 1, 1, 1, 1, 1, 1,\n",
       "       1, 1, 1, 1, 1, 1, 1, 1, 1, 1, 1, 1, 1, 1, 1, 1, 1, 1, 1, 1, 1, 1,\n",
       "       1, 1, 1, 1, 1, 1, 1, 1, 1, 1, 1, 1, 1, 1, 1, 1, 1, 1, 1, 1, 1, 1,\n",
       "       1, 1, 1, 1, 1, 1, 1, 1, 1, 1, 1, 1, 1, 1, 1, 1, 1, 1, 1, 1, 1, 1,\n",
       "       1, 1, 1, 1, 1, 1, 1, 1, 1, 1, 1, 1, 1, 1, 1, 1, 1, 1, 1, 1, 1, 1,\n",
       "       1, 1, 1, 1, 1, 1, 1, 1, 1, 1, 1, 1, 1, 1, 1, 1, 1, 1, 1, 1, 1, 1,\n",
       "       1, 1, 1, 1, 1, 1, 1, 1, 1, 1, 1, 1, 1, 1, 1, 1, 1, 1, 1, 1, 1, 1,\n",
       "       1, 1, 1, 1, 1, 1, 1, 1, 1, 1, 1, 1, 1, 1, 1, 1, 1, 1, 1, 1, 1, 1,\n",
       "       1, 1, 1, 1, 1, 1, 1, 1, 1, 1, 1, 1, 1, 1, 1, 1, 1, 1, 1, 1, 1, 1,\n",
       "       1, 1, 1, 1, 1, 1, 1, 1, 1, 1, 1, 1, 1, 1, 1, 1, 1, 1, 1, 1, 1, 1,\n",
       "       1, 1, 1, 1, 1, 1, 1, 1, 1, 1, 1, 1, 1, 1, 1, 1, 1, 1, 1, 1, 1, 1,\n",
       "       1, 1, 1, 1, 1, 1, 1, 1, 1, 1, 1, 1, 1, 1, 1, 1, 1, 1, 1, 1, 1, 1,\n",
       "       1, 1, 1, 1, 1, 1, 1, 1, 1, 1, 1, 1, 1, 1, 1, 1, 1, 1, 1, 1, 1, 1,\n",
       "       1, 1, 1, 1, 1, 1, 1, 1, 1, 1, 1, 1, 1, 1, 1, 1, 1, 1, 1, 1, 1, 1,\n",
       "       1, 1, 1, 1, 1, 1, 1, 1, 1, 1, 1, 1, 1, 1, 1, 1, 1, 1, 1, 1, 1, 1,\n",
       "       1, 1])"
      ]
     },
     "execution_count": 18,
     "metadata": {},
     "output_type": "execute_result"
    }
   ],
   "source": [
    "y_test"
   ]
  },
  {
   "cell_type": "code",
   "execution_count": 19,
   "id": "5451ca75",
   "metadata": {},
   "outputs": [
    {
     "data": {
      "text/plain": [
       "array([0, 0, 0, ..., 1, 1, 1])"
      ]
     },
     "execution_count": 19,
     "metadata": {},
     "output_type": "execute_result"
    }
   ],
   "source": [
    "y_train"
   ]
  },
  {
   "cell_type": "markdown",
   "id": "015ee48e",
   "metadata": {},
   "source": [
    "# 2. Classification with window technique\n",
    "## Setting optimal windows with train data to achieve recall 100% for class 0"
   ]
  },
  {
   "cell_type": "code",
   "execution_count": 20,
   "id": "5712f775",
   "metadata": {},
   "outputs": [],
   "source": [
    "def classification_with_windows(arr, windows=2,\n",
    "                                x1min=None, x1max=None, y1min=None, y1max=None, \n",
    "                                x2min=None, x2max=None, y2min=None, y2max=None):\n",
    "\n",
    "    windows = windows\n",
    "    cl_map = np.zeros(arr.shape[0]*windows).reshape(arr.shape[0], windows).astype(int) \n",
    "\n",
    "    for i, curve in enumerate(arr):\n",
    "        if x1min == None:\n",
    "            pass\n",
    "        else:\n",
    "            if not ((curve[x1min:x1max]>=y1min).all() & (curve[x1min:x1max]<=y1max).all()):\n",
    "                cl_map[i, 0] = 1\n",
    "                \n",
    "        if x2min == None:\n",
    "            pass\n",
    "        else:\n",
    "            if not ((curve.argmax()>x2min) & (curve.argmax()<x2max) & (curve.max()>y2min) & (curve.max()<y2max)):\n",
    "                cl_map[i, 1] = 1\n",
    "\n",
    "    return cl_map"
   ]
  },
  {
   "cell_type": "code",
   "execution_count": 21,
   "id": "51c8ba50",
   "metadata": {},
   "outputs": [],
   "source": [
    "def get_confusion_matrix(cl_map, mode=\"train\"):\n",
    "    \n",
    "    if mode==\"train\":      \n",
    "        threshold=700     # number of curves from class 0 in train data set: 700\n",
    "    elif mode==\"val\":      \n",
    "        threshold=30\n",
    "    elif mode==\"test\":\n",
    "        threshold=50      # number of curves from class 0 in test data set: 50\n",
    "        \n",
    "    tp = []\n",
    "    tn = []\n",
    "    fp = []\n",
    "    fn = []\n",
    "\n",
    "    for i, val in enumerate(cl_map):\n",
    "        if (i>=threshold) & (val.sum()>0):\n",
    "            tp.append(i)\n",
    "        if (i<threshold) & (val.sum()==0):\n",
    "            tn.append(i)\n",
    "        if (i<threshold) & (val.sum()>0):\n",
    "            fp.append(i)\n",
    "        if (i>=threshold) & (val.sum()==0):\n",
    "            fn.append(i)\n",
    "    \n",
    "    return tp, tn, fp, fn"
   ]
  },
  {
   "cell_type": "code",
   "execution_count": 22,
   "id": "8b71620d",
   "metadata": {},
   "outputs": [
    {
     "data": {
      "text/plain": [
       "(0, 620, 0)"
      ]
     },
     "execution_count": 22,
     "metadata": {},
     "output_type": "execute_result"
    }
   ],
   "source": [
    "# setting the first window\n",
    "# y1max need to be determined \n",
    "\n",
    "x1min = 0\n",
    "x1max = 620     # set range for x axis\n",
    "\n",
    "y1min = 0\n",
    "\n",
    "x1min, x1max, y1min"
   ]
  },
  {
   "cell_type": "code",
   "execution_count": 23,
   "id": "1a78843a",
   "metadata": {},
   "outputs": [
    {
     "name": "stdout",
     "output_type": "stream",
     "text": [
      "0.0 2.17\n"
     ]
    }
   ],
   "source": [
    "# convert x1min and x1max in seconds:\n",
    "\n",
    "print(x1min*0.0035, x1max*0.0035)"
   ]
  },
  {
   "cell_type": "code",
   "execution_count": 24,
   "id": "918a5451",
   "metadata": {},
   "outputs": [
    {
     "name": "stdout",
     "output_type": "stream",
     "text": [
      "0.09900000000000005\n",
      "0.09950000000000005\n"
     ]
    }
   ],
   "source": [
    "# setting the height of the first window (y1max) through iteration\n",
    "\n",
    "start = 0.05\n",
    "end = 0.1\n",
    "steps = 0.0005\n",
    "\n",
    "for i in np.arange(start, end, steps):\n",
    "    \n",
    "    x1min = 0\n",
    "    x1max = 620     # set range for x axis\n",
    "    y1min = 0\n",
    "    y1max = i\n",
    "    \n",
    "    cl_map_train = classification_with_windows(x_train, windows=2, \n",
    "                                           x1min=x1min, x1max=x1max, y1min=y1min, y1max=y1max)\n",
    "    tp_train, tn_train, fp_train, fn_train = get_confusion_matrix(cl_map_train, mode=\"train\")\n",
    "  \n",
    "    if (len(fp_train)==0) & (len(fn_train)==0):\n",
    "        print(i)"
   ]
  },
  {
   "cell_type": "code",
   "execution_count": 25,
   "id": "c280d821",
   "metadata": {},
   "outputs": [],
   "source": [
    "y1max = 0.099"
   ]
  },
  {
   "cell_type": "code",
   "execution_count": 26,
   "id": "f756ef4f",
   "metadata": {},
   "outputs": [
    {
     "name": "stdout",
     "output_type": "stream",
     "text": [
      "668.6271428571429\n"
     ]
    },
    {
     "data": {
      "text/plain": [
       "(602, 735)"
      ]
     },
     "execution_count": 26,
     "metadata": {},
     "output_type": "execute_result"
    }
   ],
   "source": [
    "# setting second window: get one reference point from the curves of class 0\n",
    "\n",
    "xref2 = np.argmax(x_train, axis=1).mean()\n",
    "print(xref2)\n",
    "\n",
    "xtol2 = 0.1\n",
    "x2min = round(xref2 * (1-xtol2))\n",
    "x2max = round(xref2 * (1+xtol2))\n",
    "x2min, x2max"
   ]
  },
  {
   "cell_type": "code",
   "execution_count": 27,
   "id": "3e5f48a6",
   "metadata": {},
   "outputs": [
    {
     "name": "stdout",
     "output_type": "stream",
     "text": [
      "2.340195\n",
      "2.107 2.5725000000000002\n"
     ]
    }
   ],
   "source": [
    "# convert x2min and x2max in seconds:\n",
    "\n",
    "print(xref2*0.0035)\n",
    "print(x2min*0.0035, x2max*0.0035)"
   ]
  },
  {
   "cell_type": "code",
   "execution_count": 28,
   "id": "8a06995c",
   "metadata": {},
   "outputs": [
    {
     "data": {
      "text/plain": [
       "(2.112, 2.688)"
      ]
     },
     "execution_count": 28,
     "metadata": {},
     "output_type": "execute_result"
    }
   ],
   "source": [
    "yref2 = 2.4     # fixed target value \n",
    "\n",
    "ytol2 = 0.12\n",
    "y2min = round(yref2 * (1-ytol2), 3)\n",
    "y2max = round(yref2 * (1+ytol2), 3)\n",
    "y2min, y2max"
   ]
  },
  {
   "cell_type": "code",
   "execution_count": 29,
   "id": "d026d0c2",
   "metadata": {},
   "outputs": [],
   "source": [
    "def plot_windows(curves, x1min=None, x1max=None, y1min=None, y1max=None, \n",
    "                 x2min=None, x2max=None, y2min=None, y2max=None, \n",
    "                 figsize=(14,7), dpi=100, color=\"black\"):\n",
    "    \n",
    "    time = etl.set_time(curves)\n",
    "    \n",
    "    plt.figure(figsize=figsize)\n",
    "    plt.plot(time, curves)\n",
    "    \n",
    "    if x1min!=None:\n",
    "        window1 = plt.Rectangle((time[x1min], y1min), time[x1max-x1min], y1max-y1min, color=color, fill=False, linewidth=2)\n",
    "        plt.gca().add_patch(window1).set_zorder(10)\n",
    "    if x2min!=None:\n",
    "        window2 = plt.Rectangle((time[x2min], y2min), time[x2max-x2min], y2max-y2min, color=color, fill=False, linewidth=2)\n",
    "        plt.gca().add_patch(window2).set_zorder(10)\n",
    "   \n",
    "    plt.rcParams['font.family'] = ['Arial']\n",
    "    plt.ylabel(\"Drehmoment in Nm\", fontsize=18)\n",
    "    plt.xlabel(\"Zeit in Sekunden\", fontsize=18)\n",
    "    plt.scatter(time[int(np.mean([x2min, x2max]))], np.mean([y2min, y2max]), color=color).set_zorder(10)\n",
    "    plt.tick_params(axis='both', labelsize=16)\n",
    "    plt.grid()\n",
    "    plt.show()"
   ]
  },
  {
   "cell_type": "code",
   "execution_count": 30,
   "id": "46121d50",
   "metadata": {},
   "outputs": [
    {
     "data": {
      "image/png": "[encoded data removed]",
      "text/plain": [
       "<Figure size 864x432 with 1 Axes>"
      ]
     },
     "metadata": {
      "needs_background": "light"
     },
     "output_type": "display_data"
    }
   ],
   "source": [
    "plot_windows(curves=x_train.transpose(), \n",
    "             x1min=x1min, x1max=x1max, y1min=y1min, y1max=y1max,\n",
    "             x2min=x2min, x2max=x2max, y2min=y2min, y2max=y2max,\n",
    "             figsize=(12,6))"
   ]
  },
  {
   "cell_type": "code",
   "execution_count": 31,
   "id": "22bbb657",
   "metadata": {},
   "outputs": [
    {
     "name": "stdout",
     "output_type": "stream",
     "text": [
      "tp: 0, tn: 700, fp: 0, fn: 0\n"
     ]
    }
   ],
   "source": [
    "tp_train, tn_train, fp_train, fn_train = get_confusion_matrix(cl_map_train, mode=\"train\")\n",
    "print(f\"tp: {len(tp_train)}, tn: {len(tn_train)}, fp: {len(fp_train)}, fn: {len(fn_train)}\")"
   ]
  },
  {
   "cell_type": "code",
   "execution_count": null,
   "id": "2de4cca1",
   "metadata": {},
   "outputs": [],
   "source": []
  },
  {
   "cell_type": "code",
   "execution_count": 32,
   "id": "b5040aa6",
   "metadata": {},
   "outputs": [],
   "source": [
    "def prepare_prediction(arr, cl_map, mode=\"train\"):\n",
    "    \n",
    "    if mode==\"train\":      \n",
    "        threshold=700     # number of curves from class 0 in train data set: 700\n",
    "    elif mode==\"val\":      \n",
    "        threshold=30\n",
    "    elif mode==\"test\":\n",
    "        threshold=50      # number of curves from class 0 in test data set: 50\n",
    "        \n",
    "    y_true = np.zeros(arr.shape[0]).astype(int)\n",
    "    y_true[threshold:] = 1\n",
    "\n",
    "    y_pred = []\n",
    "\n",
    "    for i in cl_map:\n",
    "        if i.sum()==0:\n",
    "            y_pred.append(0)\n",
    "        else:\n",
    "            y_pred.append(1)\n",
    "\n",
    "    y_pred = np.array(y_pred)\n",
    "    \n",
    "    #print(y_true.shape, y_pred.shape)\n",
    "    return y_true, y_pred"
   ]
  },
  {
   "cell_type": "code",
   "execution_count": 33,
   "id": "bdc82313",
   "metadata": {},
   "outputs": [
    {
     "name": "stdout",
     "output_type": "stream",
     "text": [
      "(700,) (700,)\n"
     ]
    }
   ],
   "source": [
    "y_true_train, y_pred_train = prepare_prediction(x_train, cl_map_train, mode=\"train\")\n",
    "print(y_true_train.shape, y_pred_train.shape)"
   ]
  },
  {
   "cell_type": "markdown",
   "id": "26842a4d",
   "metadata": {},
   "source": [
    "# 3. Evaluating test data with optimized windows"
   ]
  },
  {
   "cell_type": "code",
   "execution_count": 34,
   "id": "fe8cdec2",
   "metadata": {},
   "outputs": [
    {
     "data": {
      "text/plain": [
       "array([[0, 0],\n",
       "       [0, 0],\n",
       "       [0, 0],\n",
       "       ...,\n",
       "       [1, 1],\n",
       "       [1, 1],\n",
       "       [1, 1]])"
      ]
     },
     "execution_count": 34,
     "metadata": {},
     "output_type": "execute_result"
    }
   ],
   "source": [
    "cl_map_test = classification_with_windows(x_test, windows=2,\n",
    "                                           x1min=x1min, x1max=x1max, y1min=y1min, y1max=y1max,\n",
    "                                           x2min=x2min, x2max=x2max, y2min=y2min, y2max=y2max)\n",
    "\n",
    "cl_map_test"
   ]
  },
  {
   "cell_type": "code",
   "execution_count": 35,
   "id": "e1fcc220",
   "metadata": {},
   "outputs": [
    {
     "name": "stdout",
     "output_type": "stream",
     "text": [
      "tp: 691, tn: 50, fp: 0, fn: 9\n"
     ]
    }
   ],
   "source": [
    "tp_test, tn_test, fp_test, fn_test = get_confusion_matrix(cl_map_test, mode=\"test\")\n",
    "print(f\"tp: {len(tp_test)}, tn: {len(tn_test)}, fp: {len(fp_test)}, fn: {len(fn_test)}\")"
   ]
  },
  {
   "cell_type": "code",
   "execution_count": 36,
   "id": "0e253f1a",
   "metadata": {},
   "outputs": [
    {
     "data": {
      "text/plain": [
       "((750,), (750,))"
      ]
     },
     "execution_count": 36,
     "metadata": {},
     "output_type": "execute_result"
    }
   ],
   "source": [
    "y_true_test, y_pred_test = prepare_prediction(x_test, cl_map_test, mode=\"test\")\n",
    "y_true_test.shape, y_pred_test.shape"
   ]
  },
  {
   "cell_type": "code",
   "execution_count": 37,
   "id": "54ee6ea5",
   "metadata": {},
   "outputs": [],
   "source": [
    "def get_results(y_true, y_pred):\n",
    "    \n",
    "    acc = accuracy_score(y_true, y_pred)\n",
    "    rec = recall_score(y_true, y_pred)\n",
    "    pre = precision_score(y_true, y_pred)\n",
    "    f1 = f1_score(y_true, y_pred)\n",
    "\n",
    "    return acc, rec, pre, f1"
   ]
  },
  {
   "cell_type": "code",
   "execution_count": 38,
   "id": "639138e2",
   "metadata": {},
   "outputs": [
    {
     "name": "stdout",
     "output_type": "stream",
     "text": [
      "test results\n",
      "acc: 0.988\n",
      "rec: 0.9871428571428571\n",
      "pre: 1.0\n",
      "f1:  0.9935298346513299\n"
     ]
    }
   ],
   "source": [
    "acc_test, rec_test, pre_test, f1_test = get_results(y_true_test, y_pred_test)\n",
    "print(f\"test results\\n\"\n",
    "      f\"acc: {acc_test}\\n\"\n",
    "      f\"rec: {rec_test}\\n\"\n",
    "      f\"pre: {pre_test}\\n\"\n",
    "      f\"f1:  {f1_test}\")"
   ]
  },
  {
   "cell_type": "code",
   "execution_count": 39,
   "id": "4207c629",
   "metadata": {},
   "outputs": [
    {
     "data": {
      "image/png": "[encoded data removed]",
      "text/plain": [
       "<Figure size 720x360 with 1 Axes>"
      ]
     },
     "metadata": {
      "needs_background": "light"
     },
     "output_type": "display_data"
    }
   ],
   "source": [
    "plot_windows(curves=x_test[fn_test].transpose(), \n",
    "             x1min=x1min, x1max=x1max, y1min=y1min, y1max=y1max,\n",
    "             x2min=x2min, x2max=x2max, y2min=y2min, y2max=y2max,\n",
    "             figsize=(10,5))"
   ]
  },
  {
   "cell_type": "code",
   "execution_count": 41,
   "id": "7cb27a26",
   "metadata": {},
   "outputs": [
    {
     "data": {
      "image/png": "[encoded data removed]",
      "text/plain": [
       "<Figure size 350x350 with 1 Axes>"
      ]
     },
     "metadata": {
      "needs_background": "light"
     },
     "output_type": "display_data"
    }
   ],
   "source": [
    "ch.plot_calc_cm(y_true_test, y_pred_test, class_name=[\"i.O\", \"n.i.O\"], dpi=50)"
   ]
  },
  {
   "cell_type": "code",
   "execution_count": 42,
   "id": "8e3a63e7",
   "metadata": {},
   "outputs": [
    {
     "data": {
      "text/plain": [
       "[254, 255, 262, 263, 270, 291, 296, 299, 568]"
      ]
     },
     "execution_count": 42,
     "metadata": {},
     "output_type": "execute_result"
    }
   ],
   "source": [
    "fn_test"
   ]
  },
  {
   "cell_type": "code",
   "execution_count": 43,
   "id": "d948a5c3",
   "metadata": {},
   "outputs": [
    {
     "name": "stdout",
     "output_type": "stream",
     "text": [
      "254 [0 0]\n",
      "255 [0 0]\n",
      "262 [0 0]\n",
      "263 [0 0]\n",
      "270 [0 0]\n",
      "291 [0 0]\n",
      "296 [0 0]\n",
      "299 [0 0]\n",
      "568 [0 0]\n"
     ]
    }
   ],
   "source": [
    "for i, val in enumerate(cl_map_test):\n",
    "    if (i>=50) & (val.sum()==0):\n",
    "        print(i, val)"
   ]
  },
  {
   "cell_type": "code",
   "execution_count": 44,
   "id": "704ccb63",
   "metadata": {},
   "outputs": [
    {
     "data": {
      "image/png": "[encoded data removed]",
      "text/plain": [
       "<Figure size 864x432 with 1 Axes>"
      ]
     },
     "metadata": {
      "needs_background": "light"
     },
     "output_type": "display_data"
    }
   ],
   "source": [
    "time = etl.set_time(x_test[-1])\n",
    "    \n",
    "plt.figure(figsize=(12,6))\n",
    "plt.plot(time, x_test[fn_test[:8]].transpose(), fapsc.grey_0, linewidth=2.5)\n",
    "plt.plot([], [], fapsc.grey_0, label='5_verschmutzte_schraube')\n",
    "plt.plot(time, x_test[fn_test[-1]].transpose(), '#ba814f', linewidth=3, label='35_Klasse')\n",
    "\n",
    "if x1min!=None:\n",
    "    window1 = plt.Rectangle((time[x1min], y1min), time[x1max-x1min], y1max-y1min, color=fapsc.black, fill=False, linewidth=2)\n",
    "    plt.gca().add_patch(window1).set_zorder(10)\n",
    "if x2min!=None:\n",
    "    window2 = plt.Rectangle((time[x2min], y2min), time[x2max-x2min], y2max-y2min, color=fapsc.black, fill=False, linewidth=2)\n",
    "    plt.gca().add_patch(window2).set_zorder(10)\n",
    "\n",
    "plt.rcParams['font.family'] = ['Arial']\n",
    "plt.ylabel(\"Drehmoment in Nm\", fontsize=18)\n",
    "plt.xlabel(\"Zeit in Sekunden\", fontsize=18)\n",
    "plt.scatter(time[int(np.mean([x2min, x2max]))], np.mean([y2min, y2max]), color=fapsc.black).set_zorder(10)\n",
    "plt.tick_params(axis='both', labelsize=16)\n",
    "leg = plt.legend(loc='upper left', fontsize=20)\n",
    "for line in leg.get_lines():\n",
    "    line.set_linewidth(8)\n",
    "plt.grid()\n",
    "plt.show()"
   ]
  },
  {
   "cell_type": "code",
   "execution_count": null,
   "id": "a3ebaa08",
   "metadata": {},
   "outputs": [],
   "source": []
  },
  {
   "cell_type": "code",
   "execution_count": null,
   "id": "5a3f85b0",
   "metadata": {},
   "outputs": [],
   "source": []
  },
  {
   "cell_type": "code",
   "execution_count": null,
   "id": "1fc406d9",
   "metadata": {},
   "outputs": [],
   "source": []
  },
  {
   "cell_type": "markdown",
   "id": "00417913",
   "metadata": {},
   "source": [
    "# 4. Saving results"
   ]
  },
  {
   "cell_type": "code",
   "execution_count": 104,
   "id": "d9c569c5",
   "metadata": {},
   "outputs": [
    {
     "data": {
      "text/plain": [
       "{'algorithm': 'fenstertechnik',\n",
       " 'params': None,\n",
       " 'best_param': None,\n",
       " 'cm': [[50, 0], [9, 691]],\n",
       " 'rec': 0.9871428571428571,\n",
       " 'pre': 1.0,\n",
       " 'f1': 0.9935298346513299,\n",
       " 'acc': 0.988}"
      ]
     },
     "execution_count": 104,
     "metadata": {},
     "output_type": "execute_result"
    }
   ],
   "source": [
    "res = ch.collect_results_occ(y_true_test, y_pred_test, algorithm=\"fenstertechnik\", params=None, \n",
    "                          best_param=None, cm=confusion_matrix(y_true_test, y_pred_test).tolist())\n",
    "res"
   ]
  },
  {
   "cell_type": "code",
   "execution_count": 105,
   "id": "aab44dc7",
   "metadata": {},
   "outputs": [
    {
     "name": "stdout",
     "output_type": "stream",
     "text": [
      "existing file occ_hyperopt_results_v2.4.1.json opened and results of fenster saved.\n"
     ]
    }
   ],
   "source": [
    "#ch.save_results_json(filename=\"occ_hyperopt_results_v2.4.1.json\", \n",
    "                     key_algorithm = \"fenster\", \n",
    "                     hyperopt_result = res)"
   ]
  },
  {
   "cell_type": "code",
   "execution_count": null,
   "id": "76565b49",
   "metadata": {},
   "outputs": [],
   "source": []
  }
 ],
 "metadata": {
  "kernelspec": {
   "display_name": "gpu_env",
   "language": "python",
   "name": "gpu_env"
  },
  "language_info": {
   "codemirror_mode": {
    "name": "ipython",
    "version": 3
   },
   "file_extension": ".py",
   "mimetype": "text/x-python",
   "name": "python",
   "nbconvert_exporter": "python",
   "pygments_lexer": "ipython3",
   "version": "3.9.12"
  }
 },
 "nbformat": 4,
 "nbformat_minor": 5
}
